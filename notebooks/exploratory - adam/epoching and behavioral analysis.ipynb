{
 "cells": [
  {
   "cell_type": "markdown",
   "id": "first-writing",
   "metadata": {},
   "source": [
    "# Epoching Trials and Attaching Behavioral Metadata\n",
    "\n",
    "Here, just demonstrate the usage of getting the Epochs of trials into a \n",
    "usable form."
   ]
  },
  {
   "cell_type": "code",
   "execution_count": 1,
   "id": "infectious-winning",
   "metadata": {},
   "outputs": [],
   "source": [
    "# auto-format every cell to black\n",
    "%load_ext lab_black"
   ]
  },
  {
   "cell_type": "code",
   "execution_count": 107,
   "id": "atlantic-ivory",
   "metadata": {},
   "outputs": [
    {
     "name": "stdout",
     "output_type": "stream",
     "text": [
      "The autoreload extension is already loaded. To reload it, use:\n",
      "  %reload_ext autoreload\n"
     ]
    }
   ],
   "source": [
    "import numpy as np\n",
    "import pandas as pd\n",
    "import os\n",
    "from pathlib import Path\n",
    "import sys\n",
    "\n",
    "import mne\n",
    "from mne import read_epochs\n",
    "from mne.io import read_raw_fif\n",
    "from mne_bids import BIDSPath, read_raw_bids\n",
    "\n",
    "import matplotlib as mpl\n",
    "import matplotlib.pyplot as plt\n",
    "import seaborn as sns\n",
    "\n",
    "sys.path.append(\"../../\")\n",
    "from mtsmorf.io.move.read import (\n",
    "    read_move_trial_epochs,\n",
    "    read_behav_xy_coords,\n",
    "    read_trial_metadata,\n",
    "    _get_bad_epochs,\n",
    "    compute_xy_metrics,\n",
    ")\n",
    "\n",
    "%matplotlib inline\n",
    "%load_ext autoreload\n",
    "%autoreload 2"
   ]
  },
  {
   "cell_type": "code",
   "execution_count": 3,
   "id": "related-earth",
   "metadata": {},
   "outputs": [],
   "source": [
    "root = \"/Users/adam2392/OneDrive - Johns Hopkins/efri\"\n",
    "\n",
    "subject = \"efri07\""
   ]
  },
  {
   "cell_type": "markdown",
   "id": "iraqi-excellence",
   "metadata": {},
   "source": [
    "# Read Behavioral Physio XY coordiantes"
   ]
  },
  {
   "cell_type": "code",
   "execution_count": 4,
   "id": "supposed-haiti",
   "metadata": {},
   "outputs": [
    {
     "name": "stdout",
     "output_type": "stream",
     "text": [
      "Creating RawArray with float64 data, n_channels=2, n_times=2614000\n",
      "    Range : 0 ... 2613999 =      0.000 ...  1306.999 secs\n",
      "Ready.\n",
      "Reading events from /Users/adam2392/OneDrive - Johns Hopkins/efri/sub-efri07/ses-efri/ieeg/sub-efri07_ses-efri_task-move_acq-seeg_run-01_events.tsv.\n",
      "<RawArray | sub-efri07_ses-efri_task-move_acq-seeg_run-01_rec-xy_physio.tsv.gz, 2 x 2614000 (1307.0 s), ~39.9 MB, data loaded>\n"
     ]
    }
   ],
   "source": [
    "xy_raw = read_behav_xy_coords(root, subject)\n",
    "print(xy_raw)"
   ]
  },
  {
   "cell_type": "code",
   "execution_count": 5,
   "id": "exclusive-solid",
   "metadata": {},
   "outputs": [
    {
     "name": "stdout",
     "output_type": "stream",
     "text": [
      "(BIDSPath(\n",
      "root: /Users/adam2392/OneDrive - Johns Hopkins/efri\n",
      "datatype: ieeg\n",
      "basename: sub-efri07_ses-efri_task-move_acq-seeg_run-01_rec-xy_physio.tsv.gz),)\n"
     ]
    }
   ],
   "source": [
    "print(xy_raw.filenames)"
   ]
  },
  {
   "cell_type": "code",
   "execution_count": 39,
   "id": "tutorial-saturday",
   "metadata": {},
   "outputs": [],
   "source": [
    "event_key_start = \"Go Cue\"\n",
    "event_key_end = \"Hit Target\""
   ]
  },
  {
   "cell_type": "code",
   "execution_count": 7,
   "id": "central-seeking",
   "metadata": {},
   "outputs": [
    {
     "name": "stdout",
     "output_type": "stream",
     "text": [
      "Used Annotations descriptions: ['At Center', 'False Start', 'Go Cue', 'Held Target', 'Hit Target', 'Left Target', 'Reserved (End Trial)', 'Reserved (Start Trial)', 'Reward', 'Show Center', 'Speed Fail', 'Speed Feedback', 'Speed Instruction']\n"
     ]
    },
    {
     "data": {
      "text/html": [
       "<div>\n",
       "<style scoped>\n",
       "    .dataframe tbody tr th:only-of-type {\n",
       "        vertical-align: middle;\n",
       "    }\n",
       "\n",
       "    .dataframe tbody tr th {\n",
       "        vertical-align: top;\n",
       "    }\n",
       "\n",
       "    .dataframe thead th {\n",
       "        text-align: right;\n",
       "    }\n",
       "</style>\n",
       "<table border=\"1\" class=\"dataframe\">\n",
       "  <thead>\n",
       "    <tr style=\"text-align: right;\">\n",
       "      <th>channel</th>\n",
       "      <th>x</th>\n",
       "      <th>y</th>\n",
       "      <th>Time</th>\n",
       "      <th>Dist</th>\n",
       "      <th>Speed</th>\n",
       "      <th>trial_idx</th>\n",
       "      <th>trial_duration</th>\n",
       "    </tr>\n",
       "    <tr>\n",
       "      <th>time</th>\n",
       "      <th></th>\n",
       "      <th></th>\n",
       "      <th></th>\n",
       "      <th></th>\n",
       "      <th></th>\n",
       "      <th></th>\n",
       "      <th></th>\n",
       "    </tr>\n",
       "  </thead>\n",
       "  <tbody>\n",
       "    <tr>\n",
       "      <th>83632</th>\n",
       "      <td>NaN</td>\n",
       "      <td>NaN</td>\n",
       "      <td>NaN</td>\n",
       "      <td>NaN</td>\n",
       "      <td>NaN</td>\n",
       "      <td>1</td>\n",
       "      <td>1.303</td>\n",
       "    </tr>\n",
       "    <tr>\n",
       "      <th>83633</th>\n",
       "      <td>97656.25</td>\n",
       "      <td>0.00</td>\n",
       "      <td>1.0</td>\n",
       "      <td>97656.2500</td>\n",
       "      <td>48.828125</td>\n",
       "      <td>1</td>\n",
       "      <td>1.303</td>\n",
       "    </tr>\n",
       "    <tr>\n",
       "      <th>83634</th>\n",
       "      <td>97656.25</td>\n",
       "      <td>97656.25</td>\n",
       "      <td>1.0</td>\n",
       "      <td>138106.7932</td>\n",
       "      <td>69.053397</td>\n",
       "      <td>1</td>\n",
       "      <td>1.303</td>\n",
       "    </tr>\n",
       "    <tr>\n",
       "      <th>83634</th>\n",
       "      <td>97656.25</td>\n",
       "      <td>97656.25</td>\n",
       "      <td>0.0</td>\n",
       "      <td>138106.7932</td>\n",
       "      <td>NaN</td>\n",
       "      <td>1</td>\n",
       "      <td>1.303</td>\n",
       "    </tr>\n",
       "    <tr>\n",
       "      <th>83634</th>\n",
       "      <td>0.00</td>\n",
       "      <td>0.00</td>\n",
       "      <td>0.0</td>\n",
       "      <td>0.0000</td>\n",
       "      <td>NaN</td>\n",
       "      <td>1</td>\n",
       "      <td>1.303</td>\n",
       "    </tr>\n",
       "  </tbody>\n",
       "</table>\n",
       "</div>"
      ],
      "text/plain": [
       "channel         x         y  Time         Dist      Speed  trial_idx  \\\n",
       "time                                                                   \n",
       "83632         NaN       NaN   NaN          NaN        NaN          1   \n",
       "83633    97656.25      0.00   1.0   97656.2500  48.828125          1   \n",
       "83634    97656.25  97656.25   1.0  138106.7932  69.053397          1   \n",
       "83634    97656.25  97656.25   0.0  138106.7932        NaN          1   \n",
       "83634        0.00      0.00   0.0       0.0000        NaN          1   \n",
       "\n",
       "channel  trial_duration  \n",
       "time                     \n",
       "83632             1.303  \n",
       "83633             1.303  \n",
       "83634             1.303  \n",
       "83634             1.303  \n",
       "83634             1.303  "
      ]
     },
     "metadata": {},
     "output_type": "display_data"
    }
   ],
   "source": [
    "metrics_df = compute_xy_metrics(xy_raw, event_key_start, event_key_end)\n",
    "\n",
    "display(metrics_df.head())"
   ]
  },
  {
   "cell_type": "code",
   "execution_count": 8,
   "id": "utility-investment",
   "metadata": {},
   "outputs": [
    {
     "data": {
      "text/plain": [
       "<AxesSubplot:xlabel='trial_idx', ylabel='nanmean'>"
      ]
     },
     "execution_count": 8,
     "metadata": {},
     "output_type": "execute_result"
    },
    {
     "data": {
      "image/png": "[encoded data removed]",
      "text/plain": [
       "<Figure size 432x288 with 1 Axes>"
      ]
     },
     "metadata": {
      "needs_background": "light"
     },
     "output_type": "display_data"
    }
   ],
   "source": [
    "summ_df = metrics_df.groupby(\"trial_idx\")[\"Speed\"].agg([np.nanmean, np.nanstd])\n",
    "summ_df.reset_index(inplace=True)\n",
    "sns.barplot(x=\"trial_idx\", y=\"nanmean\", data=summ_df)"
   ]
  },
  {
   "cell_type": "code",
   "execution_count": 9,
   "id": "satellite-sheep",
   "metadata": {},
   "outputs": [
    {
     "name": "stdout",
     "output_type": "stream",
     "text": [
      "<Info | 7 non-empty values\n",
      " bads: []\n",
      " ch_names: x, y\n",
      " chs: 2 BIO\n",
      " custom_ref_applied: False\n",
      " highpass: 0.0 Hz\n",
      " lowpass: 1000.0 Hz\n",
      " meas_date: unspecified\n",
      " nchan: 2\n",
      " projs: []\n",
      " sfreq: 2000.0 Hz\n",
      ">\n",
      "[[ 28.90625   28.90625   28.90625   28.90625   28.90625 ]\n",
      " [244.140625 244.140625 244.140625 244.140625 244.140625]]\n"
     ]
    }
   ],
   "source": [
    "print(xy_raw.info)\n",
    "print(xy_raw.get_data()[:, :5])"
   ]
  },
  {
   "cell_type": "code",
   "execution_count": 10,
   "id": "biological-fortune",
   "metadata": {},
   "outputs": [
    {
     "data": {
      "text/html": [
       "<div>\n",
       "<style scoped>\n",
       "    .dataframe tbody tr th:only-of-type {\n",
       "        vertical-align: middle;\n",
       "    }\n",
       "\n",
       "    .dataframe tbody tr th {\n",
       "        vertical-align: top;\n",
       "    }\n",
       "\n",
       "    .dataframe thead th {\n",
       "        text-align: right;\n",
       "    }\n",
       "</style>\n",
       "<table border=\"1\" class=\"dataframe\">\n",
       "  <thead>\n",
       "    <tr style=\"text-align: right;\">\n",
       "      <th></th>\n",
       "      <th>trial_id</th>\n",
       "      <th>successful_trial_flag</th>\n",
       "      <th>reaction_time</th>\n",
       "      <th>n_reaction_time</th>\n",
       "      <th>r_reaction_time</th>\n",
       "      <th>missed_target_flag</th>\n",
       "      <th>speed_instruction</th>\n",
       "      <th>speed_ratio</th>\n",
       "      <th>correct_speed_flag</th>\n",
       "      <th>force_angular</th>\n",
       "      <th>force_magnitude</th>\n",
       "      <th>target_direction</th>\n",
       "      <th>x_position</th>\n",
       "      <th>y_position</th>\n",
       "    </tr>\n",
       "  </thead>\n",
       "  <tbody>\n",
       "    <tr>\n",
       "      <th>0</th>\n",
       "      <td>1</td>\n",
       "      <td>0</td>\n",
       "      <td>NaN</td>\n",
       "      <td>NaN</td>\n",
       "      <td>NaN</td>\n",
       "      <td>0</td>\n",
       "      <td>0.333333</td>\n",
       "      <td>1.000000</td>\n",
       "      <td>0</td>\n",
       "      <td>0.000000</td>\n",
       "      <td>0.000000</td>\n",
       "      <td>2</td>\n",
       "      <td>[0.0000000e+00 1.2246468e-16]</td>\n",
       "      <td>[0. 2.]</td>\n",
       "    </tr>\n",
       "    <tr>\n",
       "      <th>1</th>\n",
       "      <td>2</td>\n",
       "      <td>1</td>\n",
       "      <td>0.7965</td>\n",
       "      <td>-0.699108</td>\n",
       "      <td>0.145833</td>\n",
       "      <td>0</td>\n",
       "      <td>0.333333</td>\n",
       "      <td>0.621152</td>\n",
       "      <td>0</td>\n",
       "      <td>0.000000</td>\n",
       "      <td>0.000000</td>\n",
       "      <td>0</td>\n",
       "      <td>[ 0.0000000e+00 -3.6739404e-16]</td>\n",
       "      <td>[ 0. -2.]</td>\n",
       "    </tr>\n",
       "    <tr>\n",
       "      <th>2</th>\n",
       "      <td>3</td>\n",
       "      <td>1</td>\n",
       "      <td>0.7825</td>\n",
       "      <td>-0.753172</td>\n",
       "      <td>0.104167</td>\n",
       "      <td>0</td>\n",
       "      <td>0.333333</td>\n",
       "      <td>0.758682</td>\n",
       "      <td>0</td>\n",
       "      <td>0.000000</td>\n",
       "      <td>0.000000</td>\n",
       "      <td>1</td>\n",
       "      <td>[0. 2.]</td>\n",
       "      <td>[0. 0.]</td>\n",
       "    </tr>\n",
       "    <tr>\n",
       "      <th>3</th>\n",
       "      <td>4</td>\n",
       "      <td>1</td>\n",
       "      <td>1.1220</td>\n",
       "      <td>0.557875</td>\n",
       "      <td>0.864583</td>\n",
       "      <td>0</td>\n",
       "      <td>0.666667</td>\n",
       "      <td>0.682315</td>\n",
       "      <td>1</td>\n",
       "      <td>0.000000</td>\n",
       "      <td>0.000000</td>\n",
       "      <td>2</td>\n",
       "      <td>[0.0000000e+00 1.2246468e-16]</td>\n",
       "      <td>[0. 2.]</td>\n",
       "    </tr>\n",
       "    <tr>\n",
       "      <th>4</th>\n",
       "      <td>5</td>\n",
       "      <td>1</td>\n",
       "      <td>0.9900</td>\n",
       "      <td>0.048130</td>\n",
       "      <td>0.687500</td>\n",
       "      <td>0</td>\n",
       "      <td>0.666667</td>\n",
       "      <td>0.854296</td>\n",
       "      <td>0</td>\n",
       "      <td>4.707314</td>\n",
       "      <td>11.178812</td>\n",
       "      <td>0</td>\n",
       "      <td>[ 0.0000000e+00 -3.6739404e-16]</td>\n",
       "      <td>[ 0. -2.]</td>\n",
       "    </tr>\n",
       "  </tbody>\n",
       "</table>\n",
       "</div>"
      ],
      "text/plain": [
       "   trial_id  successful_trial_flag  reaction_time  n_reaction_time  \\\n",
       "0         1                      0            NaN              NaN   \n",
       "1         2                      1         0.7965        -0.699108   \n",
       "2         3                      1         0.7825        -0.753172   \n",
       "3         4                      1         1.1220         0.557875   \n",
       "4         5                      1         0.9900         0.048130   \n",
       "\n",
       "   r_reaction_time  missed_target_flag  speed_instruction  speed_ratio  \\\n",
       "0              NaN                   0           0.333333     1.000000   \n",
       "1         0.145833                   0           0.333333     0.621152   \n",
       "2         0.104167                   0           0.333333     0.758682   \n",
       "3         0.864583                   0           0.666667     0.682315   \n",
       "4         0.687500                   0           0.666667     0.854296   \n",
       "\n",
       "   correct_speed_flag  force_angular  force_magnitude  target_direction  \\\n",
       "0                   0       0.000000         0.000000                 2   \n",
       "1                   0       0.000000         0.000000                 0   \n",
       "2                   0       0.000000         0.000000                 1   \n",
       "3                   1       0.000000         0.000000                 2   \n",
       "4                   0       4.707314        11.178812                 0   \n",
       "\n",
       "                        x_position y_position  \n",
       "0    [0.0000000e+00 1.2246468e-16]    [0. 2.]  \n",
       "1  [ 0.0000000e+00 -3.6739404e-16]  [ 0. -2.]  \n",
       "2                          [0. 2.]    [0. 0.]  \n",
       "3    [0.0000000e+00 1.2246468e-16]    [0. 2.]  \n",
       "4  [ 0.0000000e+00 -3.6739404e-16]  [ 0. -2.]  "
      ]
     },
     "metadata": {},
     "output_type": "display_data"
    }
   ],
   "source": [
    "# read behavioral dataframe\n",
    "# BIDS Path entities\n",
    "session = \"efri\"\n",
    "task = \"move\"\n",
    "acquisition = \"seeg\"\n",
    "datatype = \"ieeg\"\n",
    "extension = \".vhdr\"\n",
    "run = \"01\"  # default run (only one per task)\n",
    "\n",
    "bids_path = BIDSPath(\n",
    "    subject=subject,\n",
    "    session=session,\n",
    "    task=task,\n",
    "    acquisition=acquisition,\n",
    "    datatype=datatype,\n",
    "    run=run,\n",
    "    suffix=datatype,\n",
    "    extension=extension,\n",
    "    root=root,\n",
    ")\n",
    "\n",
    "behav_path = bids_path.copy().update(suffix=\"behav\", extension=\".tsv\")\n",
    "\n",
    "behav_df = pd.read_csv(behav_path, delimiter=\"\\t\", index_col=None)\n",
    "\n",
    "display(behav_df.head())"
   ]
  },
  {
   "cell_type": "code",
   "execution_count": 33,
   "id": "independent-discussion",
   "metadata": {},
   "outputs": [],
   "source": [
    "trials = read_trial_metadata(root, subject)"
   ]
  },
  {
   "cell_type": "code",
   "execution_count": 34,
   "id": "restricted-beatles",
   "metadata": {},
   "outputs": [
    {
     "name": "stdout",
     "output_type": "stream",
     "text": [
      "1\n"
     ]
    },
    {
     "data": {
      "text/html": [
       "<div>\n",
       "<style scoped>\n",
       "    .dataframe tbody tr th:only-of-type {\n",
       "        vertical-align: middle;\n",
       "    }\n",
       "\n",
       "    .dataframe tbody tr th {\n",
       "        vertical-align: top;\n",
       "    }\n",
       "\n",
       "    .dataframe thead th {\n",
       "        text-align: right;\n",
       "    }\n",
       "</style>\n",
       "<table border=\"1\" class=\"dataframe\">\n",
       "  <thead>\n",
       "    <tr style=\"text-align: right;\">\n",
       "      <th></th>\n",
       "      <th>index</th>\n",
       "      <th>subject</th>\n",
       "      <th>perturbed</th>\n",
       "      <th>fixation_trial</th>\n",
       "      <th>target_direction</th>\n",
       "      <th>success</th>\n",
       "      <th>reaction_time</th>\n",
       "      <th>correct_speed</th>\n",
       "      <th>speed_instruction</th>\n",
       "      <th>beh_fname</th>\n",
       "      <th>event_fname</th>\n",
       "      <th>start_trial_id</th>\n",
       "      <th>end_trial_id</th>\n",
       "      <th>trial_duration</th>\n",
       "      <th>avg_speed</th>\n",
       "      <th>std_speed</th>\n",
       "    </tr>\n",
       "  </thead>\n",
       "  <tbody>\n",
       "    <tr>\n",
       "      <th>1</th>\n",
       "      <td>0</td>\n",
       "      <td>efri07</td>\n",
       "      <td>False</td>\n",
       "      <td>False</td>\n",
       "      <td>2</td>\n",
       "      <td>False</td>\n",
       "      <td>NaN</td>\n",
       "      <td>0</td>\n",
       "      <td>slow</td>\n",
       "      <td>/Users/adam2392/OneDrive - Johns Hopkins/efri/...</td>\n",
       "      <td>/Users/adam2392/OneDrive - Johns Hopkins/efri/...</td>\n",
       "      <td>None</td>\n",
       "      <td>None</td>\n",
       "      <td>None</td>\n",
       "      <td>None</td>\n",
       "      <td>None</td>\n",
       "    </tr>\n",
       "  </tbody>\n",
       "</table>\n",
       "</div>"
      ],
      "text/plain": [
       "0 index subject perturbed fixation_trial target_direction success  \\\n",
       "1     0  efri07     False          False                2   False   \n",
       "\n",
       "0 reaction_time correct_speed speed_instruction  \\\n",
       "1           NaN             0              slow   \n",
       "\n",
       "0                                          beh_fname  \\\n",
       "1  /Users/adam2392/OneDrive - Johns Hopkins/efri/...   \n",
       "\n",
       "0                                        event_fname start_trial_id  \\\n",
       "1  /Users/adam2392/OneDrive - Johns Hopkins/efri/...           None   \n",
       "\n",
       "0 end_trial_id trial_duration avg_speed std_speed  \n",
       "1         None           None      None      None  "
      ]
     },
     "metadata": {},
     "output_type": "display_data"
    }
   ],
   "source": [
    "trial = trials[0]\n",
    "trial_df = trial.to_data_frame()\n",
    "print(len(trial_df))\n",
    "display(trial_df.head())"
   ]
  },
  {
   "cell_type": "markdown",
   "id": "graduate-assault",
   "metadata": {},
   "source": [
    "## Read Epochs and Illustrate Attached Metadata"
   ]
  },
  {
   "cell_type": "code",
   "execution_count": 101,
   "id": "restricted-singing",
   "metadata": {},
   "outputs": [
    {
     "name": "stdout",
     "output_type": "stream",
     "text": [
      "Analyzing bids dataset: /Users/adam2392/OneDrive - Johns Hopkins/efri/sub-efri07/ses-efri/ieeg/sub-efri07_ses-efri_task-move_acq-seeg_run-01_ieeg.vhdr with tmin=-0.2 and tmax=0.5 time-locked to Left Target.\n",
      "Loaded in behavioral df: Index(['trial_id', 'successful_trial_flag', 'reaction_time', 'n_reaction_time',\n",
      "       'r_reaction_time', 'missed_target_flag', 'speed_instruction',\n",
      "       'speed_ratio', 'correct_speed_flag', 'force_angular', 'force_magnitude',\n",
      "       'target_direction', 'x_position', 'y_position'],\n",
      "      dtype='object')\n",
      "Extracting parameters from /Users/adam2392/OneDrive - Johns Hopkins/efri/sub-efri07/ses-efri/ieeg/sub-efri07_ses-efri_task-move_acq-seeg_run-01_ieeg.vhdr...\n",
      "Setting channel info structure...\n",
      "Reading events from /Users/adam2392/OneDrive - Johns Hopkins/efri/sub-efri07/ses-efri/ieeg/sub-efri07_ses-efri_task-move_acq-seeg_run-01_events.tsv.\n",
      "Reading channel info from /Users/adam2392/OneDrive - Johns Hopkins/efri/sub-efri07/ses-efri/ieeg/sub-efri07_ses-efri_task-move_acq-seeg_run-01_channels.tsv.\n",
      "Reading 0 ... 2613999  =      0.000 ...  1306.999 secs...\n"
     ]
    },
    {
     "name": "stderr",
     "output_type": "stream",
     "text": [
      "../../mtsmorf/io/move/read.py:488: RuntimeWarning: Did not find any electrodes.tsv associated with sub-efri07_ses-efri_task-move_acq-seeg_run-01.\n",
      "\n",
      "The search_str was \"/Users/adam2392/OneDrive - Johns Hopkins/efri/sub-efri07/**/sub-efri07_ses-efri*electrodes.tsv\"\n",
      "  # apply preprocessing to obtain Epochs\n",
      "../../mtsmorf/io/move/read.py:488: RuntimeWarning: Did not find any coordsystem.json associated with sub-efri07_ses-efri_task-move_acq-seeg_run-01.\n",
      "\n",
      "The search_str was \"/Users/adam2392/OneDrive - Johns Hopkins/efri/sub-efri07/**/sub-efri07_ses-efri*coordsystem.json\"\n",
      "  # apply preprocessing to obtain Epochs\n"
     ]
    },
    {
     "name": "stdout",
     "output_type": "stream",
     "text": [
      "Reading events from /Users/adam2392/OneDrive - Johns Hopkins/efri/sub-efri07/ses-efri/ieeg/sub-efri07_ses-efri_task-move_acq-seeg_run-01_events.tsv.\n",
      "Used Annotations descriptions: ['At Center', 'False Start', 'Go Cue', 'Held Target', 'Hit Target', 'Left Target', 'Reserved (End Trial)', 'Reserved (Start Trial)', 'Reward', 'Show Center', 'Speed Fail', 'Speed Feedback', 'Speed Instruction']\n",
      "Adding metadata with 16 columns\n",
      "Replacing existing metadata with 16 columns\n",
      "96 matching events found\n",
      "No baseline correction applied\n",
      "0 projection items activated\n",
      "new dropped indices [3, 4, 9, 12, 13, 33, 38, 40, 41, 48, 51, 53, 68, 76, 81, 82, 86, 87, 90, 95]\n",
      "Loading data for 96 events and 1401 original time points ...\n",
      "0 bad epochs dropped\n",
      "Dropped 20 epochs: 3, 4, 9, 12, 13, 33, 38, 40, 41, 48, 51, 53, 68, 76, 81, 82, 86, 87, 90, 95\n",
      "Setting up band-pass filter from 1 - 1e+03 Hz\n",
      "\n",
      "FIR filter parameters\n",
      "---------------------\n",
      "Designing a one-pass, zero-phase, non-causal bandpass filter:\n",
      "- Windowed time-domain design (firwin) method\n",
      "- Hamming window with 0.0194 passband ripple and 53 dB stopband attenuation\n",
      "- Lower passband edge: 1.00\n",
      "- Lower transition bandwidth: 1.00 Hz (-6 dB cutoff frequency: 0.50 Hz)\n",
      "- Upper passband edge: 999.00 Hz\n",
      "- Upper transition bandwidth: 1.00 Hz (-6 dB cutoff frequency: 999.50 Hz)\n",
      "- Filter length: 6601 samples (3.300 sec)\n",
      "\n"
     ]
    },
    {
     "name": "stderr",
     "output_type": "stream",
     "text": [
      "../../mtsmorf/io/move/utils.py:17: RuntimeWarning: filter_length (6601) is longer than the signal (1401), distortion is likely. Reduce filter length or filter a longer signal.\n",
      "  new_epochs = epochs.filter(l_freq=l_freq, h_freq=h_freq)\n"
     ]
    },
    {
     "name": "stdout",
     "output_type": "stream",
     "text": [
      "CPU times: user 18.3 s, sys: 3.57 s, total: 21.8 s\n",
      "Wall time: 22.1 s\n"
     ]
    }
   ],
   "source": [
    "%%time\n",
    "epochs = read_move_trial_epochs(root=root, subject=subject)"
   ]
  },
  {
   "cell_type": "code",
   "execution_count": 91,
   "id": "combined-kinase",
   "metadata": {},
   "outputs": [
    {
     "name": "stdout",
     "output_type": "stream",
     "text": [
      "{'Left Target': 10006}\n",
      "<Info | 9 non-empty values\n",
      " bads: []\n",
      " ch_names: G8, G7, G3, G2, G1, V8, V7, V6, V4, V3, V2, V1, D9, D8, D3, D2, ...\n",
      " chs: 75 SEEG\n",
      " custom_ref_applied: False\n",
      " highpass: 1.0 Hz\n",
      " line_freq: 60.0\n",
      " lowpass: 999.0 Hz\n",
      " meas_date: 2000-01-01 00:00:00 UTC\n",
      " nchan: 75\n",
      " projs: []\n",
      " sfreq: 2000.0 Hz\n",
      " subject_info: 4 items (dict)\n",
      ">\n",
      "76\n",
      "76\n"
     ]
    }
   ],
   "source": [
    "print(epochs.event_id)\n",
    "# print(epochs.metadata)\n",
    "print(epochs.info)\n",
    "print(len(epochs))\n",
    "print(len(epochs.events))"
   ]
  },
  {
   "cell_type": "markdown",
   "id": "exact-continuity",
   "metadata": {},
   "source": [
    "# Note Number of Trials Dropped"
   ]
  },
  {
   "cell_type": "code",
   "execution_count": 102,
   "id": "academic-hudson",
   "metadata": {},
   "outputs": [
    {
     "name": "stdout",
     "output_type": "stream",
     "text": [
      "(76, 75, 1401)\n"
     ]
    }
   ],
   "source": [
    "print(epochs.get_data().shape)"
   ]
  },
  {
   "cell_type": "code",
   "execution_count": 104,
   "id": "bulgarian-canal",
   "metadata": {},
   "outputs": [
    {
     "name": "stdout",
     "output_type": "stream",
     "text": [
      "22\n",
      "76\n"
     ]
    }
   ],
   "source": [
    "drop_inds = _get_bad_epochs(\n",
    "    behav_df=behav_df, remove_perturbed=True, remove_unsuccessful=True\n",
    ")\n",
    "print(len(drop_inds))\n",
    "print(len(behav_df) - len(drop_inds))"
   ]
  },
  {
   "cell_type": "code",
   "execution_count": 94,
   "id": "minute-parallel",
   "metadata": {},
   "outputs": [
    {
     "data": {
      "text/html": [
       "<div>\n",
       "<style scoped>\n",
       "    .dataframe tbody tr th:only-of-type {\n",
       "        vertical-align: middle;\n",
       "    }\n",
       "\n",
       "    .dataframe tbody tr th {\n",
       "        vertical-align: top;\n",
       "    }\n",
       "\n",
       "    .dataframe thead th {\n",
       "        text-align: right;\n",
       "    }\n",
       "</style>\n",
       "<table border=\"1\" class=\"dataframe\">\n",
       "  <thead>\n",
       "    <tr style=\"text-align: right;\">\n",
       "      <th></th>\n",
       "      <th>trial_idx</th>\n",
       "      <th>subject</th>\n",
       "      <th>perturbed</th>\n",
       "      <th>fixation_trial</th>\n",
       "      <th>target_direction</th>\n",
       "      <th>success</th>\n",
       "      <th>reaction_time</th>\n",
       "      <th>correct_speed</th>\n",
       "      <th>speed_instruction</th>\n",
       "      <th>beh_fname</th>\n",
       "      <th>event_fname</th>\n",
       "      <th>start_trial_id</th>\n",
       "      <th>end_trial_id</th>\n",
       "      <th>trial_duration</th>\n",
       "      <th>avg_speed</th>\n",
       "      <th>std_speed</th>\n",
       "    </tr>\n",
       "  </thead>\n",
       "  <tbody>\n",
       "    <tr>\n",
       "      <th>0</th>\n",
       "      <td>1</td>\n",
       "      <td>efri07</td>\n",
       "      <td>False</td>\n",
       "      <td>False</td>\n",
       "      <td>0</td>\n",
       "      <td>True</td>\n",
       "      <td>0.7965</td>\n",
       "      <td>0</td>\n",
       "      <td>slow</td>\n",
       "      <td>/Users/adam2392/OneDrive - Johns Hopkins/efri/...</td>\n",
       "      <td>/Users/adam2392/OneDrive - Johns Hopkins/efri/...</td>\n",
       "      <td>Left Target</td>\n",
       "      <td>Hit Target</td>\n",
       "      <td>0.5065</td>\n",
       "      <td>171.624</td>\n",
       "      <td>148.226</td>\n",
       "    </tr>\n",
       "    <tr>\n",
       "      <th>1</th>\n",
       "      <td>2</td>\n",
       "      <td>efri07</td>\n",
       "      <td>False</td>\n",
       "      <td>False</td>\n",
       "      <td>1</td>\n",
       "      <td>True</td>\n",
       "      <td>0.7825</td>\n",
       "      <td>0</td>\n",
       "      <td>slow</td>\n",
       "      <td>/Users/adam2392/OneDrive - Johns Hopkins/efri/...</td>\n",
       "      <td>/Users/adam2392/OneDrive - Johns Hopkins/efri/...</td>\n",
       "      <td>Left Target</td>\n",
       "      <td>Hit Target</td>\n",
       "      <td>0.414</td>\n",
       "      <td>189.329</td>\n",
       "      <td>154.774</td>\n",
       "    </tr>\n",
       "    <tr>\n",
       "      <th>2</th>\n",
       "      <td>3</td>\n",
       "      <td>efri07</td>\n",
       "      <td>False</td>\n",
       "      <td>False</td>\n",
       "      <td>2</td>\n",
       "      <td>True</td>\n",
       "      <td>1.122</td>\n",
       "      <td>1</td>\n",
       "      <td>fast</td>\n",
       "      <td>/Users/adam2392/OneDrive - Johns Hopkins/efri/...</td>\n",
       "      <td>/Users/adam2392/OneDrive - Johns Hopkins/efri/...</td>\n",
       "      <td>Left Target</td>\n",
       "      <td>Hit Target</td>\n",
       "      <td>0.46</td>\n",
       "      <td>172.774</td>\n",
       "      <td>160.796</td>\n",
       "    </tr>\n",
       "    <tr>\n",
       "      <th>5</th>\n",
       "      <td>6</td>\n",
       "      <td>efri07</td>\n",
       "      <td>False</td>\n",
       "      <td>False</td>\n",
       "      <td>0</td>\n",
       "      <td>True</td>\n",
       "      <td>0.8665</td>\n",
       "      <td>0</td>\n",
       "      <td>slow</td>\n",
       "      <td>/Users/adam2392/OneDrive - Johns Hopkins/efri/...</td>\n",
       "      <td>/Users/adam2392/OneDrive - Johns Hopkins/efri/...</td>\n",
       "      <td>Left Target</td>\n",
       "      <td>Hit Target</td>\n",
       "      <td>0.391</td>\n",
       "      <td>189.839</td>\n",
       "      <td>158.112</td>\n",
       "    </tr>\n",
       "    <tr>\n",
       "      <th>6</th>\n",
       "      <td>7</td>\n",
       "      <td>efri07</td>\n",
       "      <td>False</td>\n",
       "      <td>False</td>\n",
       "      <td>2</td>\n",
       "      <td>True</td>\n",
       "      <td>1.13</td>\n",
       "      <td>0</td>\n",
       "      <td>slow</td>\n",
       "      <td>/Users/adam2392/OneDrive - Johns Hopkins/efri/...</td>\n",
       "      <td>/Users/adam2392/OneDrive - Johns Hopkins/efri/...</td>\n",
       "      <td>Left Target</td>\n",
       "      <td>Hit Target</td>\n",
       "      <td>0.5745</td>\n",
       "      <td>140.397</td>\n",
       "      <td>154.104</td>\n",
       "    </tr>\n",
       "  </tbody>\n",
       "</table>\n",
       "</div>"
      ],
      "text/plain": [
       "0 trial_idx subject perturbed fixation_trial target_direction success  \\\n",
       "0         1  efri07     False          False                0    True   \n",
       "1         2  efri07     False          False                1    True   \n",
       "2         3  efri07     False          False                2    True   \n",
       "5         6  efri07     False          False                0    True   \n",
       "6         7  efri07     False          False                2    True   \n",
       "\n",
       "0 reaction_time correct_speed speed_instruction  \\\n",
       "0        0.7965             0              slow   \n",
       "1        0.7825             0              slow   \n",
       "2         1.122             1              fast   \n",
       "5        0.8665             0              slow   \n",
       "6          1.13             0              slow   \n",
       "\n",
       "0                                          beh_fname  \\\n",
       "0  /Users/adam2392/OneDrive - Johns Hopkins/efri/...   \n",
       "1  /Users/adam2392/OneDrive - Johns Hopkins/efri/...   \n",
       "2  /Users/adam2392/OneDrive - Johns Hopkins/efri/...   \n",
       "5  /Users/adam2392/OneDrive - Johns Hopkins/efri/...   \n",
       "6  /Users/adam2392/OneDrive - Johns Hopkins/efri/...   \n",
       "\n",
       "0                                        event_fname start_trial_id  \\\n",
       "0  /Users/adam2392/OneDrive - Johns Hopkins/efri/...    Left Target   \n",
       "1  /Users/adam2392/OneDrive - Johns Hopkins/efri/...    Left Target   \n",
       "2  /Users/adam2392/OneDrive - Johns Hopkins/efri/...    Left Target   \n",
       "5  /Users/adam2392/OneDrive - Johns Hopkins/efri/...    Left Target   \n",
       "6  /Users/adam2392/OneDrive - Johns Hopkins/efri/...    Left Target   \n",
       "\n",
       "0 end_trial_id trial_duration avg_speed std_speed  \n",
       "0   Hit Target         0.5065   171.624   148.226  \n",
       "1   Hit Target          0.414   189.329   154.774  \n",
       "2   Hit Target           0.46   172.774   160.796  \n",
       "5   Hit Target          0.391   189.839   158.112  \n",
       "6   Hit Target         0.5745   140.397   154.104  "
      ]
     },
     "metadata": {},
     "output_type": "display_data"
    }
   ],
   "source": [
    "display(epochs.metadata.head())"
   ]
  },
  {
   "cell_type": "code",
   "execution_count": null,
   "id": "persistent-hawaii",
   "metadata": {},
   "outputs": [],
   "source": []
  }
 ],
 "metadata": {
  "kernelspec": {
   "display_name": "eztrack",
   "language": "python",
   "name": "eztrack"
  },
  "language_info": {
   "codemirror_mode": {
    "name": "ipython",
    "version": 3
   },
   "file_extension": ".py",
   "mimetype": "text/x-python",
   "name": "python",
   "nbconvert_exporter": "python",
   "pygments_lexer": "ipython3",
   "version": "3.8.5"
  }
 },
 "nbformat": 4,
 "nbformat_minor": 5
}
