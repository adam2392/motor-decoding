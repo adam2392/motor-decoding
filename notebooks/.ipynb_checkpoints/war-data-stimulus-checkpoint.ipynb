{
 "cells": [
  {
   "cell_type": "markdown",
   "metadata": {},
   "source": [
    "# War Task Analysis"
   ]
  },
  {
   "cell_type": "code",
   "execution_count": 1,
   "metadata": {},
   "outputs": [
    {
     "name": "stdout",
     "output_type": "stream",
     "text": [
      "/Users/adam2392/Documents/SPORF\n"
     ]
    }
   ],
   "source": [
    "cd ../../../../"
   ]
  },
  {
   "cell_type": "code",
   "execution_count": 2,
   "metadata": {},
   "outputs": [
    {
     "name": "stdout",
     "output_type": "stream",
     "text": [
      "3.8.2 | packaged by conda-forge | (default, Mar  5 2020, 16:54:44) \n",
      "[Clang 9.0.1 ]\n"
     ]
    }
   ],
   "source": [
    "import pandas as pd\n",
    "from scipy import stats\n",
    "import numpy as np\n",
    "import mne\n",
    "import mne_bids\n",
    "from pathlib import Path\n",
    "from mne.decoding import Scaler, Vectorizer\n",
    "from mne_bids import make_bids_basename, read_raw_bids\n",
    "\n",
    "from natsort import natsorted\n",
    "from pprint import pprint\n",
    "    \n",
    "# plotting\n",
    "import matplotlib\n",
    "import matplotlib.pyplot as plt\n",
    "from matplotlib.colors import ListedColormap\n",
    "%matplotlib inline\n",
    "import seaborn as sns\n",
    "\n",
    "import pickle\n",
    "import time\n",
    "from tqdm import tqdm\n",
    "\n",
    "from sklearn.model_selection import train_test_split\n",
    "\n",
    "# classifiers\n",
    "from sklearn.linear_model import LogisticRegression\n",
    "from sklearn.svm import LinearSVC\n",
    "from sklearn.svm import SVC\n",
    "from sklearn.ensemble import RandomForestClassifier\n",
    "from sklearn.neural_network import MLPClassifier\n",
    "from sklearn.neighbors import KNeighborsClassifier\n",
    "from sklearn.preprocessing import LabelBinarizer\n",
    "from sklearn.pipeline import make_pipeline\n",
    "from sklearn.metrics import roc_curve, roc_auc_score\n",
    "from sklearn.model_selection import (KFold, StratifiedKFold,\n",
    "                                     train_test_split,\n",
    "                                     TimeSeriesSplit)\n",
    "from sklearn.model_selection import (cross_val_score, RandomizedSearchCV)\n",
    "    \n",
    "# from rerf.rerfClassifier import rerfClassifier\n",
    "\n",
    "import sys\n",
    "print(sys.version)\n",
    "\n",
    "from mtsmorf.io.read import (get_trial_info, \n",
    "                             read_dataset, read_label)\n",
    "from mtsmorf.io.utils import (_generate_linspace_roc_from_dict, _plot_roc_curve)\n",
    "from mtsmorf.war_exp.run_cv import cv_fit, run_exp, _load_data\n",
    "\n",
    "\n",
    "import warnings\n",
    "warnings.simplefilter('ignore')\n",
    "%load_ext autoreload\n",
    "%autoreload 2"
   ]
  },
  {
   "cell_type": "markdown",
   "metadata": {},
   "source": [
    "# Define Subject to Analyze\n",
    "\n",
    "Use BIDs entities to study the subjects"
   ]
  },
  {
   "cell_type": "code",
   "execution_count": 3,
   "metadata": {},
   "outputs": [
    {
     "name": "stdout",
     "output_type": "stream",
     "text": [
      "Reading data from:  sub-efri06_ses-efri_task-war_acq-seeg_run-01\n"
     ]
    }
   ],
   "source": [
    "# bids identifiers\n",
    "bids_root = Path(\"/Users/adam2392/Dropbox/efri/\")\n",
    "# bids_root = Path(\"/workspaces/research/data/efri/\")\n",
    "# bids_root = Path(\"/Users/ChesterHuynh/OneDrive - Johns Hopkins/research/data/efri/\")\n",
    "deriv_path = Path(bids_root / \"derivatives\")\n",
    "\n",
    "# subject identifiers\n",
    "subject = \"efri06\"\n",
    "session = \"efri\"\n",
    "task = \"war\"\n",
    "acquisition = \"seeg\"\n",
    "run = \"01\"\n",
    "kind = \"ieeg\"\n",
    "# trial_id = 2\n",
    "\n",
    "# bids filename\n",
    "bids_basename = make_bids_basename(\n",
    "    subject=subject,\n",
    "    session=session,\n",
    "    task=task,\n",
    "    acquisition=acquisition,\n",
    "    run=run,\n",
    "#     suffix=f\"{kind}.vhdr\",\n",
    ")\n",
    "\n",
    "print(\"Reading data from: \", bids_basename)"
   ]
  },
  {
   "cell_type": "markdown",
   "metadata": {},
   "source": [
    "Load the data (Epochs)\n",
    "----------------------\n",
    "\n",
    "From each Epoch, we format the data as (X, y) pairs for supervised classification."
   ]
  },
  {
   "cell_type": "code",
   "execution_count": 4,
   "metadata": {},
   "outputs": [
    {
     "name": "stdout",
     "output_type": "stream",
     "text": [
      "Out of 186 trials, there were 185 successful trials in sub-efri06_ses-efri_task-war_acq-seeg_run-01.\n",
      "Extracting parameters from /Users/adam2392/Dropbox/efri/sub-efri06/ses-efri/ieeg/sub-efri06_ses-efri_task-war_acq-seeg_run-01_ieeg.vhdr...\n",
      "Setting channel info structure...\n",
      "Reading events from /Users/adam2392/Dropbox/efri/sub-efri06/ses-efri/ieeg/sub-efri06_ses-efri_task-war_acq-seeg_run-01_events.tsv.\n",
      "Reading channel info from /Users/adam2392/Dropbox/efri/sub-efri06/ses-efri/ieeg/sub-efri06_ses-efri_task-war_acq-seeg_run-01_channels.tsv.\n",
      "Out of 186 trials, there were 185 successful trials in sub-efri06_ses-efri_task-war_acq-seeg_run-01.\n",
      "Out of 186 trials, there were 185 successful trials in sub-efri06_ses-efri_task-war_acq-seeg_run-01.\n",
      "Extracting parameters from /Users/adam2392/Dropbox/efri/sub-efri06/ses-efri/ieeg/sub-efri06_ses-efri_task-war_acq-seeg_run-01_ieeg.vhdr...\n",
      "Setting channel info structure...\n",
      "Reading events from /Users/adam2392/Dropbox/efri/sub-efri06/ses-efri/ieeg/sub-efri06_ses-efri_task-war_acq-seeg_run-01_events.tsv.\n",
      "Reading channel info from /Users/adam2392/Dropbox/efri/sub-efri06/ses-efri/ieeg/sub-efri06_ses-efri_task-war_acq-seeg_run-01_channels.tsv.\n",
      "Out of 186 trials, there were 185 successful trials in sub-efri06_ses-efri_task-war_acq-seeg_run-01.\n"
     ]
    }
   ],
   "source": [
    "# read epochs data\n",
    "epochs_show, y = _load_data(bids_basename, bids_root, event_key='show card', verbose=False)\n",
    "\n",
    "# make sure y labels are properly binarized\n",
    "lb = LabelBinarizer(neg_label=0, pos_label=1)\n",
    "y = lb.fit_transform(y)\n",
    "# print(y)\n",
    "\n",
    "# read in epochs data for fixation\n",
    "epochs_fixate, y = _load_data(bids_basename, bids_root, event_key='fixation', verbose=False)"
   ]
  },
  {
   "cell_type": "code",
   "execution_count": 5,
   "metadata": {},
   "outputs": [
    {
     "name": "stdout",
     "output_type": "stream",
     "text": [
      "<Epochs  |   186 events (all good), 0 - 0.5 sec, baseline off, ~112.4 MB, data loaded,\n",
      " '10011': 186> <Epochs  |   186 events (all good), 0 - 0.5 sec, baseline off, ~112.4 MB, data loaded,\n",
      " '10007': 186>\n",
      "(186, 79, 1001)\n",
      "(186, 79, 1001)\n"
     ]
    }
   ],
   "source": [
    "print(epochs_show, epochs_fixate)\n",
    "print(epochs_show.get_data().shape)\n",
    "print(epochs_fixate.get_data().shape)"
   ]
  },
  {
   "cell_type": "code",
   "execution_count": 6,
   "metadata": {},
   "outputs": [
    {
     "name": "stdout",
     "output_type": "stream",
     "text": [
      "(372, 79, 1001) (372,)\n"
     ]
    }
   ],
   "source": [
    "# create X array\n",
    "X = np.vstack((epochs_show.get_data(), epochs_fixate.get_data()))\n",
    "y = np.hstack((np.ones(len(epochs_show)), np.zeros(len(epochs_fixate))))\n",
    "\n",
    "print(X.shape, y.shape)"
   ]
  },
  {
   "cell_type": "markdown",
   "metadata": {},
   "source": [
    "Create a classifier\n",
    "-------------------\n",
    "\n",
    "Using a combination of MNE decoding objects and sklearn pipeline, we can setup a pipeline for running\n",
    "a supervised classification experiment.\n",
    "\n",
    "    * Scaler performs z-normalization across all channels \n",
    "    * Vectorizer reformats data into samples X features\n",
    "\n",
    "Then the pipeline is fed as a sklearn classifier to a BaseSearchCV (e.g. RandomizedSearchCV), which \n",
    "optimizes using KFold CV based on a number of possible parameter settings."
   ]
  },
  {
   "cell_type": "code",
   "execution_count": 7,
   "metadata": {},
   "outputs": [],
   "source": [
    "# features, so the resulting filters used are spatio-temporal\n",
    "clf = make_pipeline(\n",
    "    Scaler(epochs_show.info),  # apply z-normalization across all channels\n",
    "    Vectorizer(),\n",
    "    RandomForestClassifier()\n",
    ")"
   ]
  },
  {
   "cell_type": "code",
   "execution_count": 8,
   "metadata": {},
   "outputs": [
    {
     "name": "stdout",
     "output_type": "stream",
     "text": [
      "(279, 79, 1001) (279,) (372, 79, 1001)\n"
     ]
    }
   ],
   "source": [
    "# make sure to hold out some data as test\n",
    "X_train, X_test, y_train, y_test = train_test_split(X, y)\n",
    "\n",
    "print(X_train.shape, y_train.shape, X.shape)"
   ]
  },
  {
   "cell_type": "code",
   "execution_count": 9,
   "metadata": {},
   "outputs": [
    {
     "name": "stdout",
     "output_type": "stream",
     "text": [
      "{'randomforestclassifier__max_depth': [None],\n",
      " 'randomforestclassifier__max_features': ['auto'],\n",
      " 'randomforestclassifier__min_samples_split': [2],\n",
      " 'randomforestclassifier__n_estimators': [200]}\n",
      "(279, 79, 1001) (279,)\n",
      "Fitting 10 folds for each of 1 candidates, totalling 10 fits\n"
     ]
    },
    {
     "name": "stderr",
     "output_type": "stream",
     "text": [
      "[Parallel(n_jobs=-1)]: Using backend LokyBackend with 8 concurrent workers.\n",
      "[Parallel(n_jobs=-1)]: Done   6 out of  10 | elapsed:   15.6s remaining:   10.4s\n",
      "[Parallel(n_jobs=-1)]: Done  10 out of  10 | elapsed:   21.2s finished\n"
     ]
    },
    {
     "name": "stdout",
     "output_type": "stream",
     "text": [
      "Fitting 10 folds for each of 1 candidates, totalling 10 fits\n"
     ]
    },
    {
     "name": "stderr",
     "output_type": "stream",
     "text": [
      "[Parallel(n_jobs=-1)]: Using backend LokyBackend with 8 concurrent workers.\n",
      "[Parallel(n_jobs=-1)]: Done   6 out of  10 | elapsed:    8.6s remaining:    5.7s\n",
      "[Parallel(n_jobs=-1)]: Done  10 out of  10 | elapsed:   13.1s finished\n"
     ]
    },
    {
     "name": "stdout",
     "output_type": "stream",
     "text": [
      "Fitting 10 folds for each of 1 candidates, totalling 10 fits\n"
     ]
    },
    {
     "name": "stderr",
     "output_type": "stream",
     "text": [
      "[Parallel(n_jobs=-1)]: Using backend LokyBackend with 8 concurrent workers.\n",
      "[Parallel(n_jobs=-1)]: Done   6 out of  10 | elapsed:    9.7s remaining:    6.4s\n",
      "[Parallel(n_jobs=-1)]: Done  10 out of  10 | elapsed:   14.5s finished\n"
     ]
    },
    {
     "name": "stdout",
     "output_type": "stream",
     "text": [
      "Fitting 10 folds for each of 1 candidates, totalling 10 fits\n"
     ]
    },
    {
     "name": "stderr",
     "output_type": "stream",
     "text": [
      "[Parallel(n_jobs=-1)]: Using backend LokyBackend with 8 concurrent workers.\n",
      "[Parallel(n_jobs=-1)]: Done   6 out of  10 | elapsed:    8.9s remaining:    5.9s\n",
      "[Parallel(n_jobs=-1)]: Done  10 out of  10 | elapsed:   13.6s finished\n"
     ]
    },
    {
     "name": "stdout",
     "output_type": "stream",
     "text": [
      "Fitting 10 folds for each of 1 candidates, totalling 10 fits\n"
     ]
    },
    {
     "name": "stderr",
     "output_type": "stream",
     "text": [
      "[Parallel(n_jobs=-1)]: Using backend LokyBackend with 8 concurrent workers.\n",
      "[Parallel(n_jobs=-1)]: Done   6 out of  10 | elapsed:    9.5s remaining:    6.3s\n",
      "[Parallel(n_jobs=-1)]: Done  10 out of  10 | elapsed:   14.9s finished\n"
     ]
    },
    {
     "name": "stdout",
     "output_type": "stream",
     "text": [
      "Fitting 10 folds for each of 1 candidates, totalling 10 fits\n"
     ]
    },
    {
     "name": "stderr",
     "output_type": "stream",
     "text": [
      "[Parallel(n_jobs=-1)]: Using backend LokyBackend with 8 concurrent workers.\n",
      "[Parallel(n_jobs=-1)]: Done   6 out of  10 | elapsed:   10.2s remaining:    6.8s\n",
      "[Parallel(n_jobs=-1)]: Done  10 out of  10 | elapsed:   15.4s finished\n"
     ]
    },
    {
     "name": "stdout",
     "output_type": "stream",
     "text": [
      "Fitting 10 folds for each of 1 candidates, totalling 10 fits\n"
     ]
    },
    {
     "name": "stderr",
     "output_type": "stream",
     "text": [
      "[Parallel(n_jobs=-1)]: Using backend LokyBackend with 8 concurrent workers.\n",
      "[Parallel(n_jobs=-1)]: Done   6 out of  10 | elapsed:    7.4s remaining:    5.0s\n",
      "[Parallel(n_jobs=-1)]: Done  10 out of  10 | elapsed:   12.9s finished\n"
     ]
    },
    {
     "name": "stdout",
     "output_type": "stream",
     "text": [
      "Fitting 10 folds for each of 1 candidates, totalling 10 fits\n"
     ]
    },
    {
     "name": "stderr",
     "output_type": "stream",
     "text": [
      "[Parallel(n_jobs=-1)]: Using backend LokyBackend with 8 concurrent workers.\n",
      "[Parallel(n_jobs=-1)]: Done   6 out of  10 | elapsed:    8.1s remaining:    5.4s\n",
      "[Parallel(n_jobs=-1)]: Done  10 out of  10 | elapsed:   12.7s finished\n"
     ]
    },
    {
     "name": "stdout",
     "output_type": "stream",
     "text": [
      "Fitting 10 folds for each of 1 candidates, totalling 10 fits\n"
     ]
    },
    {
     "name": "stderr",
     "output_type": "stream",
     "text": [
      "[Parallel(n_jobs=-1)]: Using backend LokyBackend with 8 concurrent workers.\n",
      "[Parallel(n_jobs=-1)]: Done   6 out of  10 | elapsed:    7.5s remaining:    5.0s\n",
      "[Parallel(n_jobs=-1)]: Done  10 out of  10 | elapsed:   11.8s finished\n"
     ]
    },
    {
     "name": "stdout",
     "output_type": "stream",
     "text": [
      "Fitting 10 folds for each of 1 candidates, totalling 10 fits\n"
     ]
    },
    {
     "name": "stderr",
     "output_type": "stream",
     "text": [
      "[Parallel(n_jobs=-1)]: Using backend LokyBackend with 8 concurrent workers.\n",
      "[Parallel(n_jobs=-1)]: Done   6 out of  10 | elapsed:    7.5s remaining:    5.0s\n",
      "[Parallel(n_jobs=-1)]: Done  10 out of  10 | elapsed:   11.8s finished\n"
     ]
    },
    {
     "name": "stdout",
     "output_type": "stream",
     "text": [
      "Fitting 10 folds for each of 1 candidates, totalling 10 fits\n"
     ]
    },
    {
     "name": "stderr",
     "output_type": "stream",
     "text": [
      "[Parallel(n_jobs=-1)]: Using backend LokyBackend with 8 concurrent workers.\n",
      "[Parallel(n_jobs=-1)]: Done   6 out of  10 | elapsed:    7.5s remaining:    5.0s\n",
      "[Parallel(n_jobs=-1)]: Done  10 out of  10 | elapsed:   11.4s finished\n"
     ]
    },
    {
     "name": "stdout",
     "output_type": "stream",
     "text": [
      "   tpr  fpr  thresholds\n",
      "0  NaN  NaN         NaN\n",
      "1  NaN  NaN         NaN\n",
      "2  NaN  NaN         NaN\n",
      "Average difference of -0.003571 with std. dev. of 0.000000.\n",
      "{'randomforestclassifier__n_estimators': 200, 'randomforestclassifier__min_samples_split': 2, 'randomforestclassifier__max_features': 'auto', 'randomforestclassifier__max_depth': None}\n"
     ]
    }
   ],
   "source": [
    "# feed in training to cross-validation, which will use training/validation data\n",
    "# to iterate the classifier\n",
    "cv_clf, outer_cv = cv_fit(clf, X_train, y_train, shuffle=True, apply_groups=False)"
   ]
  },
  {
   "cell_type": "markdown",
   "metadata": {},
   "source": [
    "Visualize results\n",
    "-----------------\n",
    "\n",
    "ROC curve and accuracy curves"
   ]
  },
  {
   "cell_type": "code",
   "execution_count": 27,
   "metadata": {},
   "outputs": [],
   "source": [
    "fpr, tpr, aucs, thresholds = dict(), dict(), dict(), dict()\n",
    "\n",
    "# store ROC metrics\n",
    "for i, (train, test) in enumerate(outer_cv.split(X=X_test, y=y_test)):\n",
    "    # for binary classification get probability for class 1\n",
    "    ypredict_proba = cv_clf.predict_proba(X_test[test])[:, 1]\n",
    "    ytest = y_test[test]\n",
    "    \n",
    "    if np.unique(ytest).size == 1:\n",
    "        continue\n",
    "\n",
    "    # print(ytest.shape, ypredict_proba.shape)\n",
    "    # print(ypredict_proba)\n",
    "    # print(ytest)\n",
    "\n",
    "    # compute the curve and AUC\n",
    "    fpr[i], tpr[i], thresholds[i] = roc_curve(y_true=ytest,\n",
    "                                              # pos_label=1,\n",
    "                                              y_score=ypredict_proba)\n",
    "    aucs[i] = roc_auc_score(y_true=ytest, y_score=ypredict_proba)"
   ]
  },
  {
   "cell_type": "code",
   "execution_count": 28,
   "metadata": {},
   "outputs": [
    {
     "name": "stdout",
     "output_type": "stream",
     "text": [
      "[0. 1. 0. 1. 0. 1. 0. 1. 0.]\n"
     ]
    }
   ],
   "source": [
    "print(ytest)"
   ]
  },
  {
   "cell_type": "code",
   "execution_count": 29,
   "metadata": {},
   "outputs": [
    {
     "name": "stdout",
     "output_type": "stream",
     "text": [
      "{0: 1.0, 1: 0.8095238095238095, 2: 0.9523809523809524, 3: 1.0, 4: 1.0, 5: 0.8, 6: 0.888888888888889, 7: 1.0, 8: 0.9, 9: 0.925}\n"
     ]
    }
   ],
   "source": [
    "# print(fpr)\n",
    "print(aucs)"
   ]
  },
  {
   "cell_type": "code",
   "execution_count": 30,
   "metadata": {},
   "outputs": [
    {
     "name": "stdout",
     "output_type": "stream",
     "text": [
      "[0.         0.01010101 0.02020202 0.03030303 0.04040404 0.05050505\n",
      " 0.06060606 0.07070707 0.08080808 0.09090909 0.1010101  0.11111111\n",
      " 0.12121212 0.13131313 0.14141414 0.15151515 0.16161616 0.17171717\n",
      " 0.18181818 0.19191919 0.2020202  0.21212121 0.22222222 0.23232323\n",
      " 0.24242424 0.25252525 0.26262626 0.27272727 0.28282828 0.29292929\n",
      " 0.3030303  0.31313131 0.32323232 0.33333333 0.34343434 0.35353535\n",
      " 0.36363636 0.37373737 0.38383838 0.39393939 0.4040404  0.41414141\n",
      " 0.42424242 0.43434343 0.44444444 0.45454545 0.46464646 0.47474747\n",
      " 0.48484848 0.49494949 0.50505051 0.51515152 0.52525253 0.53535354\n",
      " 0.54545455 0.55555556 0.56565657 0.57575758 0.58585859 0.5959596\n",
      " 0.60606061 0.61616162 0.62626263 0.63636364 0.64646465 0.65656566\n",
      " 0.66666667 0.67676768 0.68686869 0.6969697  0.70707071 0.71717172\n",
      " 0.72727273 0.73737374 0.74747475 0.75757576 0.76767677 0.77777778\n",
      " 0.78787879 0.7979798  0.80808081 0.81818182 0.82828283 0.83838384\n",
      " 0.84848485 0.85858586 0.86868687 0.87878788 0.88888889 0.8989899\n",
      " 0.90909091 0.91919192 0.92929293 0.93939394 0.94949495 0.95959596\n",
      " 0.96969697 0.97979798 0.98989899 1.        ] [0.         0.77547619 0.77547619 0.77547619 0.77547619 0.77547619\n",
      " 0.77547619 0.77547619 0.77547619 0.77547619 0.77547619 0.77547619\n",
      " 0.77547619 0.77547619 0.77547619 0.77547619 0.77547619 0.77547619\n",
      " 0.77547619 0.77547619 0.87572872 0.87699134 0.87825397 0.87951659\n",
      " 0.88077922 0.92204185 0.92330447 0.9245671  0.92582973 0.92709235\n",
      " 0.92835498 0.9296176  0.93088023 0.94642857 0.9476912  0.94895382\n",
      " 0.95021645 0.95147908 0.9527417  0.95400433 0.9547619  0.9547619\n",
      " 0.9547619  0.9547619  0.9547619  0.9547619  0.9547619  0.9547619\n",
      " 0.9547619  0.9547619  0.9547619  0.9547619  0.9547619  0.9547619\n",
      " 0.9547619  0.9547619  0.9547619  0.9547619  0.9547619  0.9547619\n",
      " 0.9547619  0.9547619  0.9547619  0.9547619  0.9547619  0.9547619\n",
      " 1.         1.         1.         1.         1.         1.\n",
      " 1.         1.         1.         1.         1.         1.\n",
      " 1.         1.         1.         1.         1.         1.\n",
      " 1.         1.         1.         1.         1.         1.\n",
      " 1.         1.         1.         1.         1.         1.\n",
      " 1.         1.         1.         1.        ] [0.         0.29124031 0.29124031 0.29124031 0.29124031 0.29124031\n",
      " 0.29124031 0.29124031 0.29124031 0.29124031 0.29124031 0.29124031\n",
      " 0.29124031 0.29124031 0.29124031 0.29124031 0.29124031 0.29124031\n",
      " 0.29124031 0.29124031 0.1402244  0.13916217 0.13819564 0.13732682\n",
      " 0.13655758 0.1015019  0.10024138 0.09910968 0.09811126 0.09725022\n",
      " 0.09653024 0.0959545  0.09552561 0.09362473 0.09329942 0.09312717\n",
      " 0.09310882 0.09324448 0.09353346 0.09397436 0.09431096 0.09431096\n",
      " 0.09431096 0.09431096 0.09431096 0.09431096 0.09431096 0.09431096\n",
      " 0.09431096 0.09431096 0.09431096 0.09431096 0.09431096 0.09431096\n",
      " 0.09431096 0.09431096 0.09431096 0.09431096 0.09431096 0.09431096\n",
      " 0.09431096 0.09431096 0.09431096 0.09431096 0.09431096 0.09431096\n",
      " 0.         0.         0.         0.         0.         0.\n",
      " 0.         0.         0.         0.         0.         0.\n",
      " 0.         0.         0.         0.         0.         0.\n",
      " 0.         0.         0.         0.         0.         0.\n",
      " 0.         0.         0.         0.         0.         0.\n",
      " 0.         0.         0.         0.        ]\n",
      "0.9275793650793652 0.07353363055346439\n"
     ]
    }
   ],
   "source": [
    "# compute statistics on the ROC curve\n",
    "mean_fpr, mean_tpr, std_tpr = _generate_linspace_roc_from_dict(fpr.values(),  tpr.values(), \n",
    "                                                               n_points=100)\n",
    "\n",
    "mean_auc, std_auc = np.mean(list(aucs.values())), np.std(list(aucs.values()))\n",
    "\n",
    "print(mean_fpr, mean_tpr, std_tpr)\n",
    "print(mean_auc, std_auc)"
   ]
  },
  {
   "cell_type": "code",
   "execution_count": 31,
   "metadata": {},
   "outputs": [
    {
     "data": {
      "image/png": "[encoded data removed]",
      "text/plain": [
       "<Figure size 432x288 with 1 Axes>"
      ]
     },
     "metadata": {
      "needs_background": "light"
     },
     "output_type": "display_data"
    }
   ],
   "source": [
    "fig, ax = plt.subplots(1, 1)\n",
    "ax = _plot_roc_curve(mean_tpr, mean_fpr, std_tpr, mean_auc, std_auc, ax=ax)"
   ]
  },
  {
   "cell_type": "code",
   "execution_count": 32,
   "metadata": {},
   "outputs": [
    {
     "name": "stdout",
     "output_type": "stream",
     "text": [
      "RandomizedSearchCV(cv=KFold(n_splits=10, random_state=1234, shuffle=True),\n",
      "                   error_score=nan,\n",
      "                   estimator=Pipeline(memory=None,\n",
      "                                      steps=[('scaler',\n",
      "                                              Scaler(info=<Info | 9 non-empty values\n",
      " bads: []\n",
      " ch_names: B'10, B'9, B'8, B'5, B'4, B'2, B'1, C'10, C'9, C'8, C'3, C'2, ...\n",
      " chs: 79 SEEG\n",
      " custom_ref_applied: False\n",
      " highpass: 0.0 Hz\n",
      " line_freq: 60.0\n",
      " lowpass: 1000.0 Hz\n",
      " meas_date: 2000-01-01 00:00:00 UTC\n",
      " nc...\n",
      "                                      verbose=False),\n",
      "                   iid='deprecated', n_iter=1, n_jobs=-1,\n",
      "                   param_distributions={'randomforestclassifier__max_depth': [None],\n",
      "                                        'randomforestclassifier__max_features': ['auto'],\n",
      "                                        'randomforestclassifier__min_samples_split': [2],\n",
      "                                        'randomforestclassifier__n_estimators': [200]},\n",
      "                   pre_dispatch='2*n_jobs', random_state=None, refit=True,\n",
      "                   return_train_score=True, scoring=None, verbose=1)\n"
     ]
    }
   ],
   "source": [
    "print(cv_clf)"
   ]
  },
  {
   "cell_type": "markdown",
   "metadata": {},
   "source": [
    "# Show Card vs Show Reward\n",
    "\n",
    "Can we visually distinguish the two?"
   ]
  },
  {
   "cell_type": "code",
   "execution_count": 6,
   "metadata": {},
   "outputs": [
    {
     "name": "stdout",
     "output_type": "stream",
     "text": [
      "Out of 186 trials, there were 185 successful trials in sub-efri06_ses-efri_task-war_acq-seeg_run-01.\n",
      "Extracting parameters from /Users/adam2392/Dropbox/efri/sub-efri06/ses-efri/ieeg/sub-efri06_ses-efri_task-war_acq-seeg_run-01_ieeg.vhdr...\n",
      "Setting channel info structure...\n",
      "Reading events from /Users/adam2392/Dropbox/efri/sub-efri06/ses-efri/ieeg/sub-efri06_ses-efri_task-war_acq-seeg_run-01_events.tsv.\n",
      "Reading channel info from /Users/adam2392/Dropbox/efri/sub-efri06/ses-efri/ieeg/sub-efri06_ses-efri_task-war_acq-seeg_run-01_channels.tsv.\n",
      "Out of 186 trials, there were 185 successful trials in sub-efri06_ses-efri_task-war_acq-seeg_run-01.\n",
      "Out of 186 trials, there were 185 successful trials in sub-efri06_ses-efri_task-war_acq-seeg_run-01.\n",
      "Extracting parameters from /Users/adam2392/Dropbox/efri/sub-efri06/ses-efri/ieeg/sub-efri06_ses-efri_task-war_acq-seeg_run-01_ieeg.vhdr...\n",
      "Setting channel info structure...\n",
      "Reading events from /Users/adam2392/Dropbox/efri/sub-efri06/ses-efri/ieeg/sub-efri06_ses-efri_task-war_acq-seeg_run-01_events.tsv.\n",
      "Reading channel info from /Users/adam2392/Dropbox/efri/sub-efri06/ses-efri/ieeg/sub-efri06_ses-efri_task-war_acq-seeg_run-01_channels.tsv.\n",
      "Out of 186 trials, there were 185 successful trials in sub-efri06_ses-efri_task-war_acq-seeg_run-01.\n",
      "<Epochs  |   186 events (all good), 0 - 0.5 sec, baseline off, ~112.4 MB, data loaded,\n",
      " '10011': 186> <Epochs  |   185 events (all good), 0 - 0.5 sec, baseline off, ~111.8 MB, data loaded,\n",
      " '10010': 185>\n",
      "(186, 79, 1001)\n",
      "(185, 79, 1001)\n",
      "(371, 79, 1001) (371,)\n",
      "(278, 79, 1001) (278,) (371, 79, 1001)\n",
      "{'randomforestclassifier__max_depth': [None],\n",
      " 'randomforestclassifier__max_features': ['auto'],\n",
      " 'randomforestclassifier__min_samples_split': [2],\n",
      " 'randomforestclassifier__n_estimators': [200]}\n",
      "(278, 79, 1001) (278,)\n",
      "Fitting 10 folds for each of 1 candidates, totalling 10 fits\n"
     ]
    },
    {
     "name": "stderr",
     "output_type": "stream",
     "text": [
      "[Parallel(n_jobs=-1)]: Using backend LokyBackend with 8 concurrent workers.\n",
      "[Parallel(n_jobs=-1)]: Done   6 out of  10 | elapsed:   12.8s remaining:    8.5s\n",
      "[Parallel(n_jobs=-1)]: Done  10 out of  10 | elapsed:   18.1s finished\n"
     ]
    },
    {
     "name": "stdout",
     "output_type": "stream",
     "text": [
      "Fitting 10 folds for each of 1 candidates, totalling 10 fits\n"
     ]
    },
    {
     "name": "stderr",
     "output_type": "stream",
     "text": [
      "[Parallel(n_jobs=-1)]: Using backend LokyBackend with 8 concurrent workers.\n",
      "[Parallel(n_jobs=-1)]: Done   6 out of  10 | elapsed:    8.3s remaining:    5.5s\n",
      "[Parallel(n_jobs=-1)]: Done  10 out of  10 | elapsed:   13.1s finished\n"
     ]
    },
    {
     "name": "stdout",
     "output_type": "stream",
     "text": [
      "Fitting 10 folds for each of 1 candidates, totalling 10 fits\n"
     ]
    },
    {
     "name": "stderr",
     "output_type": "stream",
     "text": [
      "[Parallel(n_jobs=-1)]: Using backend LokyBackend with 8 concurrent workers.\n",
      "[Parallel(n_jobs=-1)]: Done   6 out of  10 | elapsed:    8.5s remaining:    5.7s\n",
      "[Parallel(n_jobs=-1)]: Done  10 out of  10 | elapsed:   13.4s finished\n"
     ]
    },
    {
     "name": "stdout",
     "output_type": "stream",
     "text": [
      "Fitting 10 folds for each of 1 candidates, totalling 10 fits\n"
     ]
    },
    {
     "name": "stderr",
     "output_type": "stream",
     "text": [
      "[Parallel(n_jobs=-1)]: Using backend LokyBackend with 8 concurrent workers.\n",
      "[Parallel(n_jobs=-1)]: Done   6 out of  10 | elapsed:    8.1s remaining:    5.4s\n",
      "[Parallel(n_jobs=-1)]: Done  10 out of  10 | elapsed:   12.8s finished\n"
     ]
    },
    {
     "name": "stdout",
     "output_type": "stream",
     "text": [
      "Fitting 10 folds for each of 1 candidates, totalling 10 fits\n"
     ]
    },
    {
     "name": "stderr",
     "output_type": "stream",
     "text": [
      "[Parallel(n_jobs=-1)]: Using backend LokyBackend with 8 concurrent workers.\n",
      "[Parallel(n_jobs=-1)]: Done   6 out of  10 | elapsed:    8.2s remaining:    5.5s\n",
      "[Parallel(n_jobs=-1)]: Done  10 out of  10 | elapsed:   13.0s finished\n"
     ]
    },
    {
     "name": "stdout",
     "output_type": "stream",
     "text": [
      "Fitting 10 folds for each of 1 candidates, totalling 10 fits\n"
     ]
    },
    {
     "name": "stderr",
     "output_type": "stream",
     "text": [
      "[Parallel(n_jobs=-1)]: Using backend LokyBackend with 8 concurrent workers.\n",
      "[Parallel(n_jobs=-1)]: Done   6 out of  10 | elapsed:    8.0s remaining:    5.3s\n",
      "[Parallel(n_jobs=-1)]: Done  10 out of  10 | elapsed:   12.7s finished\n"
     ]
    },
    {
     "name": "stdout",
     "output_type": "stream",
     "text": [
      "Fitting 10 folds for each of 1 candidates, totalling 10 fits\n"
     ]
    },
    {
     "name": "stderr",
     "output_type": "stream",
     "text": [
      "[Parallel(n_jobs=-1)]: Using backend LokyBackend with 8 concurrent workers.\n",
      "[Parallel(n_jobs=-1)]: Done   6 out of  10 | elapsed:    8.1s remaining:    5.4s\n",
      "[Parallel(n_jobs=-1)]: Done  10 out of  10 | elapsed:   13.0s finished\n"
     ]
    },
    {
     "name": "stdout",
     "output_type": "stream",
     "text": [
      "Fitting 10 folds for each of 1 candidates, totalling 10 fits\n"
     ]
    },
    {
     "name": "stderr",
     "output_type": "stream",
     "text": [
      "[Parallel(n_jobs=-1)]: Using backend LokyBackend with 8 concurrent workers.\n",
      "[Parallel(n_jobs=-1)]: Done   6 out of  10 | elapsed:    8.0s remaining:    5.3s\n",
      "[Parallel(n_jobs=-1)]: Done  10 out of  10 | elapsed:   12.9s finished\n"
     ]
    },
    {
     "name": "stdout",
     "output_type": "stream",
     "text": [
      "Fitting 10 folds for each of 1 candidates, totalling 10 fits\n"
     ]
    },
    {
     "name": "stderr",
     "output_type": "stream",
     "text": [
      "[Parallel(n_jobs=-1)]: Using backend LokyBackend with 8 concurrent workers.\n",
      "[Parallel(n_jobs=-1)]: Done   6 out of  10 | elapsed:    8.4s remaining:    5.6s\n",
      "[Parallel(n_jobs=-1)]: Done  10 out of  10 | elapsed:   13.2s finished\n"
     ]
    },
    {
     "name": "stdout",
     "output_type": "stream",
     "text": [
      "Fitting 10 folds for each of 1 candidates, totalling 10 fits\n"
     ]
    },
    {
     "name": "stderr",
     "output_type": "stream",
     "text": [
      "[Parallel(n_jobs=-1)]: Using backend LokyBackend with 8 concurrent workers.\n",
      "[Parallel(n_jobs=-1)]: Done   6 out of  10 | elapsed:   12.3s remaining:    8.2s\n",
      "[Parallel(n_jobs=-1)]: Done  10 out of  10 | elapsed:   18.1s finished\n"
     ]
    },
    {
     "name": "stdout",
     "output_type": "stream",
     "text": [
      "Fitting 10 folds for each of 1 candidates, totalling 10 fits\n"
     ]
    },
    {
     "name": "stderr",
     "output_type": "stream",
     "text": [
      "[Parallel(n_jobs=-1)]: Using backend LokyBackend with 8 concurrent workers.\n",
      "[Parallel(n_jobs=-1)]: Done   6 out of  10 | elapsed:    9.8s remaining:    6.5s\n",
      "[Parallel(n_jobs=-1)]: Done  10 out of  10 | elapsed:   15.3s finished\n"
     ]
    },
    {
     "name": "stdout",
     "output_type": "stream",
     "text": [
      "   tpr  fpr  thresholds\n",
      "0  NaN  NaN         NaN\n",
      "1  NaN  NaN         NaN\n",
      "2  NaN  NaN         NaN\n",
      "Average difference of -0.010714 with std. dev. of 0.000000.\n",
      "{'randomforestclassifier__n_estimators': 200, 'randomforestclassifier__min_samples_split': 2, 'randomforestclassifier__max_features': 'auto', 'randomforestclassifier__max_depth': None}\n"
     ]
    }
   ],
   "source": [
    "# read epochs data\n",
    "epochs_show, y = _load_data(bids_basename, bids_root, event_key='show card', verbose=False)\n",
    "\n",
    "# make sure y labels are properly binarized\n",
    "lb = LabelBinarizer(neg_label=0, pos_label=1)\n",
    "y = lb.fit_transform(y)\n",
    "# print(y)\n",
    "\n",
    "# read in epochs data for fixation\n",
    "epochs_fixate, y = _load_data(bids_basename, bids_root, event_key='show bet', verbose=False)\n",
    "\n",
    "print(epochs_show, epochs_fixate)\n",
    "print(epochs_show.get_data().shape)\n",
    "print(epochs_fixate.get_data().shape)\n",
    "\n",
    "# create X array\n",
    "X = np.vstack((epochs_show.get_data(), epochs_fixate.get_data()))\n",
    "y = np.hstack((np.ones(len(epochs_show)), np.zeros(len(epochs_fixate))))\n",
    "\n",
    "print(X.shape, y.shape)\n",
    "\n",
    "# features, so the resulting filters used are spatio-temporal\n",
    "clf = make_pipeline(\n",
    "    Scaler(epochs_show.info),  # apply z-normalization across all channels\n",
    "    Vectorizer(),\n",
    "    RandomForestClassifier()\n",
    ")\n",
    "\n",
    "# make sure to hold out some data as test\n",
    "X_train, X_test, y_train, y_test = train_test_split(X, y)\n",
    "\n",
    "print(X_train.shape, y_train.shape, X.shape)\n",
    "\n",
    "# feed in training to cross-validation, which will use training/validation data\n",
    "# to iterate the classifier\n",
    "cv_clf, outer_cv = cv_fit(clf, X_train, y_train, shuffle=True, apply_groups=False)"
   ]
  },
  {
   "cell_type": "code",
   "execution_count": 7,
   "metadata": {},
   "outputs": [
    {
     "name": "stdout",
     "output_type": "stream",
     "text": [
      "[1. 0. 0. 1. 1. 1. 1. 1. 1.]\n",
      "{0: 1.0, 1: 0.84, 2: 1.0, 3: 0.9285714285714286, 4: 0.888888888888889, 5: 0.85, 6: 1.0, 7: 1.0, 8: 0.8571428571428572, 9: 1.0}\n",
      "[0.         0.01010101 0.02020202 0.03030303 0.04040404 0.05050505\n",
      " 0.06060606 0.07070707 0.08080808 0.09090909 0.1010101  0.11111111\n",
      " 0.12121212 0.13131313 0.14141414 0.15151515 0.16161616 0.17171717\n",
      " 0.18181818 0.19191919 0.2020202  0.21212121 0.22222222 0.23232323\n",
      " 0.24242424 0.25252525 0.26262626 0.27272727 0.28282828 0.29292929\n",
      " 0.3030303  0.31313131 0.32323232 0.33333333 0.34343434 0.35353535\n",
      " 0.36363636 0.37373737 0.38383838 0.39393939 0.4040404  0.41414141\n",
      " 0.42424242 0.43434343 0.44444444 0.45454545 0.46464646 0.47474747\n",
      " 0.48484848 0.49494949 0.50505051 0.51515152 0.52525253 0.53535354\n",
      " 0.54545455 0.55555556 0.56565657 0.57575758 0.58585859 0.5959596\n",
      " 0.60606061 0.61616162 0.62626263 0.63636364 0.64646465 0.65656566\n",
      " 0.66666667 0.67676768 0.68686869 0.6969697  0.70707071 0.71717172\n",
      " 0.72727273 0.73737374 0.74747475 0.75757576 0.76767677 0.77777778\n",
      " 0.78787879 0.7979798  0.80808081 0.81818182 0.82828283 0.83838384\n",
      " 0.84848485 0.85858586 0.86868687 0.87878788 0.88888889 0.8989899\n",
      " 0.90909091 0.91919192 0.92929293 0.93939394 0.94949495 0.95959596\n",
      " 0.96969697 0.97979798 0.98989899 1.        ] [0.         0.83738095 0.83738095 0.83738095 0.83738095 0.83738095\n",
      " 0.83738095 0.83738095 0.83738095 0.83738095 0.83738095 0.83738095\n",
      " 0.83738095 0.83738095 0.83738095 0.83738095 0.83738095 0.83738095\n",
      " 0.83738095 0.83738095 0.83738095 0.83738095 0.83738095 0.83738095\n",
      " 0.83738095 0.83738095 0.83738095 0.83738095 0.83738095 0.88738095\n",
      " 0.88738095 0.88738095 0.88738095 0.92071429 0.92071429 0.92071429\n",
      " 0.92071429 0.92071429 0.92071429 0.92071429 0.96071429 0.96071429\n",
      " 0.96071429 0.96071429 0.96071429 0.96071429 0.96071429 0.96071429\n",
      " 0.96071429 0.96071429 0.975      0.975      0.975      0.975\n",
      " 0.975      0.975      0.975      0.975      0.975      0.975\n",
      " 1.         1.         1.         1.         1.         1.\n",
      " 1.         1.         1.         1.         1.         1.\n",
      " 1.         1.         1.         1.         1.         1.\n",
      " 1.         1.         1.         1.         1.         1.\n",
      " 1.         1.         1.         1.         1.         1.\n",
      " 1.         1.         1.         1.         1.         1.\n",
      " 1.         1.         1.         1.        ] [0.         0.18427418 0.18427418 0.18427418 0.18427418 0.18427418\n",
      " 0.18427418 0.18427418 0.18427418 0.18427418 0.18427418 0.18427418\n",
      " 0.18427418 0.18427418 0.18427418 0.18427418 0.18427418 0.18427418\n",
      " 0.18427418 0.18427418 0.18427418 0.18427418 0.18427418 0.18427418\n",
      " 0.18427418 0.18427418 0.18427418 0.18427418 0.18427418 0.15072783\n",
      " 0.15072783 0.15072783 0.15072783 0.13418119 0.13418119 0.13418119\n",
      " 0.13418119 0.13418119 0.13418119 0.13418119 0.08214286 0.08214286\n",
      " 0.08214286 0.08214286 0.08214286 0.08214286 0.08214286 0.08214286\n",
      " 0.08214286 0.08214286 0.075      0.075      0.075      0.075\n",
      " 0.075      0.075      0.075      0.075      0.075      0.075\n",
      " 0.         0.         0.         0.         0.         0.\n",
      " 0.         0.         0.         0.         0.         0.\n",
      " 0.         0.         0.         0.         0.         0.\n",
      " 0.         0.         0.         0.         0.         0.\n",
      " 0.         0.         0.         0.         0.         0.\n",
      " 0.         0.         0.         0.         0.         0.\n",
      " 0.         0.         0.         0.        ]\n",
      "0.9364603174603175 0.06751516164650867\n"
     ]
    },
    {
     "data": {
      "image/png": "[encoded data removed]",
      "text/plain": [
       "<Figure size 432x288 with 1 Axes>"
      ]
     },
     "metadata": {
      "needs_background": "light"
     },
     "output_type": "display_data"
    }
   ],
   "source": [
    "fpr, tpr, aucs, thresholds = dict(), dict(), dict(), dict()\n",
    "\n",
    "# store ROC metrics\n",
    "for i, (train, test) in enumerate(outer_cv.split(X=X_test, y=y_test)):\n",
    "    # for binary classification get probability for class 1\n",
    "    ypredict_proba = cv_clf.predict_proba(X_test[test])[:, 1]\n",
    "    ytest = y_test[test]\n",
    "    \n",
    "    if np.unique(ytest).size == 1:\n",
    "        continue\n",
    "\n",
    "    # print(ytest.shape, ypredict_proba.shape)\n",
    "    # print(ypredict_proba)\n",
    "    # print(ytest)\n",
    "\n",
    "    # compute the curve and AUC\n",
    "    fpr[i], tpr[i], thresholds[i] = roc_curve(y_true=ytest,\n",
    "                                              # pos_label=1,\n",
    "                                              y_score=ypredict_proba)\n",
    "    aucs[i] = roc_auc_score(y_true=ytest, y_score=ypredict_proba)\n",
    "    \n",
    "    \n",
    "print(ytest)\n",
    "print(aucs)\n",
    "\n",
    "# compute statistics on the ROC curve\n",
    "mean_fpr, mean_tpr, std_tpr = _generate_linspace_roc_from_dict(fpr.values(),  tpr.values(), \n",
    "                                                               n_points=100)\n",
    "\n",
    "mean_auc, std_auc = np.mean(list(aucs.values())), np.std(list(aucs.values()))\n",
    "\n",
    "print(mean_fpr, mean_tpr, std_tpr)\n",
    "print(mean_auc, std_auc)\n",
    "\n",
    "fig, ax = plt.subplots(1, 1)\n",
    "ax = _plot_roc_curve(mean_tpr, mean_fpr, std_tpr, mean_auc, std_auc, ax=ax)"
   ]
  },
  {
   "cell_type": "markdown",
   "metadata": {},
   "source": [
    "# Which Card?\n",
    "\n",
    "Here, we try to classify which card was shown (i.e. high or low)?"
   ]
  },
  {
   "cell_type": "code",
   "execution_count": 4,
   "metadata": {},
   "outputs": [
    {
     "name": "stdout",
     "output_type": "stream",
     "text": [
      "Out of 186 trials, there were 185 successful trials in sub-efri06_ses-efri_task-war_acq-seeg_run-01.\n",
      "Extracting parameters from /Users/adam2392/Dropbox/efri/sub-efri06/ses-efri/ieeg/sub-efri06_ses-efri_task-war_acq-seeg_run-01_ieeg.vhdr...\n",
      "Setting channel info structure...\n",
      "Reading events from /Users/adam2392/Dropbox/efri/sub-efri06/ses-efri/ieeg/sub-efri06_ses-efri_task-war_acq-seeg_run-01_events.tsv.\n",
      "Reading channel info from /Users/adam2392/Dropbox/efri/sub-efri06/ses-efri/ieeg/sub-efri06_ses-efri_task-war_acq-seeg_run-01_channels.tsv.\n",
      "Out of 186 trials, there were 185 successful trials in sub-efri06_ses-efri_task-war_acq-seeg_run-01.\n",
      "[  4   5   6   7   8  20  39  42  44  49  53  58  59  64  66  67  72  76\n",
      "  78  79  86  89  91  99 106 109 115 116 123 134 136 145 147 148 156 158\n",
      " 159 162 168 173 177 178]\n",
      "<Epochs  |   144 events (all good), 0 - 0.5 sec, baseline off, ~87.0 MB, data loaded,\n",
      " '10011': 144> (144,)\n",
      "[0. 1.]\n",
      "(144, 79, 1001) (144, 1)\n",
      "(108, 79, 1001) (108, 1) (144, 79, 1001)\n",
      "{'randomforestclassifier__max_depth': [None],\n",
      " 'randomforestclassifier__max_features': ['auto'],\n",
      " 'randomforestclassifier__min_samples_split': [2],\n",
      " 'randomforestclassifier__n_estimators': [200]}\n",
      "(108, 79, 1001) (108, 1)\n",
      "Fitting 10 folds for each of 1 candidates, totalling 10 fits\n"
     ]
    },
    {
     "name": "stderr",
     "output_type": "stream",
     "text": [
      "[Parallel(n_jobs=-1)]: Using backend LokyBackend with 8 concurrent workers.\n",
      "[Parallel(n_jobs=-1)]: Done   6 out of  10 | elapsed:    6.1s remaining:    4.1s\n",
      "[Parallel(n_jobs=-1)]: Done  10 out of  10 | elapsed:    7.8s finished\n"
     ]
    },
    {
     "name": "stdout",
     "output_type": "stream",
     "text": [
      "[  0   1   2   3   4   5   6   7   8   9  10  11  12  13  14  15  16  17\n",
      "  18  19  20  21  22  23  24  25  26  27  28  30  31  32  34  35  36  37\n",
      "  38  39  41  43  44  45  46  47  48  49  50  51  53  54  55  56  58  60\n",
      "  61  63  65  66  67  68  69  70  71  72  73  74  75  76  77  78  79  80\n",
      "  83  84  85  86  87  88  89  90  91  92  93  94  95  96  97  98  99 100\n",
      " 101 102 103 104 105 106 107] [29 33 40 42 52 57 59 62 64 81 82]\n",
      "[  0   1   2   3   4   5   6   7   8   9  10  11  12  13  14  15  16  18\n",
      "  19  20  21  22  23  24  25  26  28  29  30  31  32  33  34  35  36  37\n",
      "  38  39  40  41  42  43  44  45  46  47  48  49  50  51  52  53  56  57\n",
      "  58  59  60  61  62  64  65  66  67  69  70  71  72  73  74  75  76  77\n",
      "  78  79  80  81  82  83  84  85  86  88  89  90  91  92  94  95  97  98\n",
      "  99 100 101 103 105 106 107] [ 17  27  54  55  63  68  87  93  96 102 104]\n",
      "[  0   2   3   4   5   6   7   8  10  11  12  13  14  15  16  17  18  19\n",
      "  21  22  23  24  25  26  27  28  29  30  31  33  34  36  37  38  40  41\n",
      "  42  43  44  45  46  47  48  49  50  51  52  53  54  55  56  57  58  59\n",
      "  60  61  62  63  64  65  67  68  69  70  71  72  73  74  75  76  78  79\n",
      "  80  81  82  83  84  85  86  87  88  89  91  92  93  94  96  97  98 100\n",
      " 101 102 103 104 105 106 107] [ 1  9 20 32 35 39 66 77 90 95 99]\n",
      "[  0   1   2   3   6   7   8   9  11  12  13  14  15  16  17  18  19  20\n",
      "  21  22  23  24  26  27  28  29  30  31  32  33  34  35  37  38  39  40\n",
      "  41  42  43  44  45  46  47  49  50  52  53  54  55  56  57  58  59  60\n",
      "  61  62  63  64  65  66  67  68  69  70  71  72  73  74  75  76  77  79\n",
      "  80  81  82  83  84  85  86  87  88  90  92  93  94  95  96  97  98  99\n",
      " 100 102 103 104 105 106 107] [  4   5  10  25  36  48  51  78  89  91 101]\n",
      "[  0   1   2   3   4   5   6   8   9  10  11  12  13  14  15  16  17  19\n",
      "  20  22  23  24  25  26  27  28  29  30  31  32  33  34  35  36  37  38\n",
      "  39  40  41  42  43  44  45  46  47  48  49  50  51  52  53  54  55  56\n",
      "  57  58  59  60  61  62  63  64  65  66  67  68  69  71  72  73  75  76\n",
      "  77  78  79  80  81  82  83  87  89  90  91  92  93  94  95  96  97  98\n",
      "  99 101 102 103 104 105 107] [  7  18  21  70  74  84  85  86  88 100 106]\n",
      "[  0   1   2   3   4   5   7   9  10  11  12  13  14  15  17  18  19  20\n",
      "  21  23  24  25  26  27  28  29  30  31  32  33  34  35  36  37  38  39\n",
      "  40  42  43  46  47  48  49  50  51  52  53  54  55  57  58  59  60  62\n",
      "  63  64  65  66  67  68  69  70  71  73  74  75  76  77  78  79  80  81\n",
      "  82  83  84  85  86  87  88  89  90  91  92  93  95  96  97  98  99 100\n",
      " 101 102 103 104 105 106 107] [ 6  8 16 22 41 44 45 56 61 72 94]\n",
      "[  0   1   2   3   4   5   6   7   8   9  10  11  15  16  17  18  20  21\n",
      "  22  23  24  25  26  27  29  30  32  33  34  35  36  37  38  39  40  41\n",
      "  42  43  44  45  47  48  49  50  51  52  53  54  55  56  57  58  59  61\n",
      "  62  63  64  66  67  68  69  70  72  73  74  75  76  77  78  80  81  82\n",
      "  83  84  85  86  87  88  89  90  91  92  93  94  95  96  97  98  99 100\n",
      " 101 102 103 104 105 106 107] [12 13 14 19 28 31 46 60 65 71 79]\n",
      "[  1   4   5   6   7   8   9  10  12  13  14  15  16  17  18  19  20  21\n",
      "  22  23  24  25  26  27  28  29  30  31  32  33  35  36  38  39  40  41\n",
      "  42  43  44  45  46  47  48  49  51  52  53  54  55  56  57  58  59  60\n",
      "  61  62  63  64  65  66  68  69  70  71  72  73  74  76  77  78  79  80\n",
      "  81  82  83  84  85  86  87  88  89  90  91  92  93  94  95  96  97  98\n",
      "  99 100 101 102 104 106 107] [  0   2   3  11  34  37  50  67  75 103 105]\n",
      "[  0   1   2   3   4   5   6   7   8   9  10  11  12  13  14  15  16  17\n",
      "  18  19  20  21  22  23  24  25  26  27  28  29  31  32  33  34  35  36\n",
      "  37  38  39  40  41  42  44  45  46  47  48  49  50  51  52  53  54  55\n",
      "  56  57  59  60  61  62  63  64  65  66  67  68  70  71  72  74  75  76\n",
      "  77  78  79  81  82  83  84  85  86  87  88  89  90  91  93  94  95  96\n",
      "  99 100 101 102 103 104 105 106] [ 30  43  58  69  73  80  92  97  98 107]\n",
      "[  0   1   2   3   4   5   6   7   8   9  10  11  12  13  14  16  17  18\n",
      "  19  20  21  22  25  27  28  29  30  31  32  33  34  35  36  37  39  40\n",
      "  41  42  43  44  45  46  48  50  51  52  54  55  56  57  58  59  60  61\n",
      "  62  63  64  65  66  67  68  69  70  71  72  73  74  75  77  78  79  80\n",
      "  81  82  84  85  86  87  88  89  90  91  92  93  94  95  96  97  98  99\n",
      " 100 101 102 103 104 105 106 107] [15 23 24 26 38 47 49 53 76 83]\n",
      "Fitting 10 folds for each of 1 candidates, totalling 10 fits\n"
     ]
    },
    {
     "name": "stderr",
     "output_type": "stream",
     "text": [
      "[Parallel(n_jobs=-1)]: Using backend LokyBackend with 8 concurrent workers.\n",
      "[Parallel(n_jobs=-1)]: Done   6 out of  10 | elapsed:    2.4s remaining:    1.6s\n",
      "[Parallel(n_jobs=-1)]: Done  10 out of  10 | elapsed:    3.9s finished\n"
     ]
    },
    {
     "name": "stdout",
     "output_type": "stream",
     "text": [
      "Fitting 10 folds for each of 1 candidates, totalling 10 fits\n"
     ]
    },
    {
     "name": "stderr",
     "output_type": "stream",
     "text": [
      "[Parallel(n_jobs=-1)]: Using backend LokyBackend with 8 concurrent workers.\n",
      "[Parallel(n_jobs=-1)]: Done   6 out of  10 | elapsed:    3.0s remaining:    2.0s\n",
      "[Parallel(n_jobs=-1)]: Done  10 out of  10 | elapsed:    5.1s finished\n"
     ]
    },
    {
     "name": "stdout",
     "output_type": "stream",
     "text": [
      "Fitting 10 folds for each of 1 candidates, totalling 10 fits\n"
     ]
    },
    {
     "name": "stderr",
     "output_type": "stream",
     "text": [
      "[Parallel(n_jobs=-1)]: Using backend LokyBackend with 8 concurrent workers.\n",
      "[Parallel(n_jobs=-1)]: Done   6 out of  10 | elapsed:    2.8s remaining:    1.9s\n",
      "[Parallel(n_jobs=-1)]: Done  10 out of  10 | elapsed:    4.8s finished\n"
     ]
    },
    {
     "name": "stdout",
     "output_type": "stream",
     "text": [
      "Fitting 10 folds for each of 1 candidates, totalling 10 fits\n"
     ]
    },
    {
     "name": "stderr",
     "output_type": "stream",
     "text": [
      "[Parallel(n_jobs=-1)]: Using backend LokyBackend with 8 concurrent workers.\n",
      "[Parallel(n_jobs=-1)]: Done   6 out of  10 | elapsed:    3.8s remaining:    2.5s\n",
      "[Parallel(n_jobs=-1)]: Done  10 out of  10 | elapsed:    5.6s finished\n"
     ]
    },
    {
     "name": "stdout",
     "output_type": "stream",
     "text": [
      "Fitting 10 folds for each of 1 candidates, totalling 10 fits\n"
     ]
    },
    {
     "name": "stderr",
     "output_type": "stream",
     "text": [
      "[Parallel(n_jobs=-1)]: Using backend LokyBackend with 8 concurrent workers.\n",
      "[Parallel(n_jobs=-1)]: Done   6 out of  10 | elapsed:    3.1s remaining:    2.1s\n",
      "[Parallel(n_jobs=-1)]: Done  10 out of  10 | elapsed:    4.4s finished\n"
     ]
    },
    {
     "name": "stdout",
     "output_type": "stream",
     "text": [
      "Fitting 10 folds for each of 1 candidates, totalling 10 fits\n"
     ]
    },
    {
     "name": "stderr",
     "output_type": "stream",
     "text": [
      "[Parallel(n_jobs=-1)]: Using backend LokyBackend with 8 concurrent workers.\n",
      "[Parallel(n_jobs=-1)]: Done   6 out of  10 | elapsed:    2.9s remaining:    1.9s\n",
      "[Parallel(n_jobs=-1)]: Done  10 out of  10 | elapsed:    4.4s finished\n"
     ]
    },
    {
     "name": "stdout",
     "output_type": "stream",
     "text": [
      "Fitting 10 folds for each of 1 candidates, totalling 10 fits\n"
     ]
    },
    {
     "name": "stderr",
     "output_type": "stream",
     "text": [
      "[Parallel(n_jobs=-1)]: Using backend LokyBackend with 8 concurrent workers.\n",
      "[Parallel(n_jobs=-1)]: Done   6 out of  10 | elapsed:    2.8s remaining:    1.8s\n",
      "[Parallel(n_jobs=-1)]: Done  10 out of  10 | elapsed:    4.2s finished\n"
     ]
    },
    {
     "name": "stdout",
     "output_type": "stream",
     "text": [
      "Fitting 10 folds for each of 1 candidates, totalling 10 fits\n"
     ]
    },
    {
     "name": "stderr",
     "output_type": "stream",
     "text": [
      "[Parallel(n_jobs=-1)]: Using backend LokyBackend with 8 concurrent workers.\n",
      "[Parallel(n_jobs=-1)]: Done   6 out of  10 | elapsed:    2.6s remaining:    1.7s\n",
      "[Parallel(n_jobs=-1)]: Done  10 out of  10 | elapsed:    3.9s finished\n"
     ]
    },
    {
     "name": "stdout",
     "output_type": "stream",
     "text": [
      "Fitting 10 folds for each of 1 candidates, totalling 10 fits\n"
     ]
    },
    {
     "name": "stderr",
     "output_type": "stream",
     "text": [
      "[Parallel(n_jobs=-1)]: Using backend LokyBackend with 8 concurrent workers.\n",
      "[Parallel(n_jobs=-1)]: Done   6 out of  10 | elapsed:    2.7s remaining:    1.8s\n",
      "[Parallel(n_jobs=-1)]: Done  10 out of  10 | elapsed:    4.2s finished\n"
     ]
    },
    {
     "name": "stdout",
     "output_type": "stream",
     "text": [
      "Fitting 10 folds for each of 1 candidates, totalling 10 fits\n"
     ]
    },
    {
     "name": "stderr",
     "output_type": "stream",
     "text": [
      "[Parallel(n_jobs=-1)]: Using backend LokyBackend with 8 concurrent workers.\n",
      "[Parallel(n_jobs=-1)]: Done   6 out of  10 | elapsed:    2.4s remaining:    1.6s\n",
      "[Parallel(n_jobs=-1)]: Done  10 out of  10 | elapsed:    4.0s finished\n"
     ]
    },
    {
     "name": "stdout",
     "output_type": "stream",
     "text": [
      "   tpr  fpr  thresholds\n",
      "0  NaN  NaN         NaN\n",
      "1  NaN  NaN         NaN\n",
      "2  NaN  NaN         NaN\n",
      "Average difference of 0.020000 with std. dev. of 0.000000.\n",
      "{'randomforestclassifier__n_estimators': 200, 'randomforestclassifier__min_samples_split': 2, 'randomforestclassifier__max_features': 'auto', 'randomforestclassifier__max_depth': None}\n"
     ]
    }
   ],
   "source": [
    "# read epochs data\n",
    "epochs_show, y = _load_data(bids_basename, bids_root, \n",
    "                            label_keyword='subject_card', \n",
    "                            event_key='show card', verbose=False)\n",
    "\n",
    "# map y to high and low card\n",
    "y[y==2] = 0\n",
    "y[y==4] = 0\n",
    "y[y==8] = 1\n",
    "y[y==10] = 1\n",
    "\n",
    "six_inds = np.where(y == 6)[0]\n",
    "print(six_inds)\n",
    "\n",
    "epochs_show = epochs_show.drop(six_inds)\n",
    "y = np.delete(y, six_inds)\n",
    "\n",
    "print(epochs_show, y.shape)\n",
    "print(np.unique(y))\n",
    "# make sure y labels are properly binarized\n",
    "lb = LabelBinarizer(neg_label=0, pos_label=1)\n",
    "y = lb.fit_transform(y)\n",
    "# print(y)\n",
    "\n",
    "# create X array\n",
    "X = epochs_show.get_data()\n",
    "\n",
    "print(X.shape, y.shape)\n",
    "\n",
    "# features, so the resulting filters used are spatio-temporal\n",
    "clf = make_pipeline(\n",
    "    Scaler(epochs_show.info),  # apply z-normalization across all channels\n",
    "    Vectorizer(),\n",
    "    RandomForestClassifier()\n",
    ")\n",
    "\n",
    "# make sure to hold out some data as test\n",
    "X_train, X_test, y_train, y_test = train_test_split(X, y)\n",
    "\n",
    "print(X_train.shape, y_train.shape, X.shape)\n",
    "\n",
    "# feed in training to cross-validation, which will use training/validation data\n",
    "# to iterate the classifier\n",
    "cv_clf, outer_cv = cv_fit(clf, X_train, y_train, shuffle=True, apply_groups=False)"
   ]
  },
  {
   "cell_type": "code",
   "execution_count": 5,
   "metadata": {},
   "outputs": [
    {
     "name": "stdout",
     "output_type": "stream",
     "text": [
      "[[0]\n",
      " [1]\n",
      " [1]]\n",
      "{0: 0.5, 1: 0.5, 2: 1.0, 3: 0.0, 4: 0.3333333333333333, 5: 1.0, 6: 0.0, 7: 0.5, 9: 0.5}\n",
      "[0.         0.01010101 0.02020202 0.03030303 0.04040404 0.05050505\n",
      " 0.06060606 0.07070707 0.08080808 0.09090909 0.1010101  0.11111111\n",
      " 0.12121212 0.13131313 0.14141414 0.15151515 0.16161616 0.17171717\n",
      " 0.18181818 0.19191919 0.2020202  0.21212121 0.22222222 0.23232323\n",
      " 0.24242424 0.25252525 0.26262626 0.27272727 0.28282828 0.29292929\n",
      " 0.3030303  0.31313131 0.32323232 0.33333333 0.34343434 0.35353535\n",
      " 0.36363636 0.37373737 0.38383838 0.39393939 0.4040404  0.41414141\n",
      " 0.42424242 0.43434343 0.44444444 0.45454545 0.46464646 0.47474747\n",
      " 0.48484848 0.49494949 0.50505051 0.51515152 0.52525253 0.53535354\n",
      " 0.54545455 0.55555556 0.56565657 0.57575758 0.58585859 0.5959596\n",
      " 0.60606061 0.61616162 0.62626263 0.63636364 0.64646465 0.65656566\n",
      " 0.66666667 0.67676768 0.68686869 0.6969697  0.70707071 0.71717172\n",
      " 0.72727273 0.73737374 0.74747475 0.75757576 0.76767677 0.77777778\n",
      " 0.78787879 0.7979798  0.80808081 0.81818182 0.82828283 0.83838384\n",
      " 0.84848485 0.85858586 0.86868687 0.87878788 0.88888889 0.8989899\n",
      " 0.90909091 0.91919192 0.92929293 0.93939394 0.94949495 0.95959596\n",
      " 0.96969697 0.97979798 0.98989899 1.        ] [0.         0.46333707 0.46371119 0.4640853  0.46445941 0.46483352\n",
      " 0.46520763 0.46558174 0.46595585 0.46632997 0.46670408 0.46707819\n",
      " 0.4674523  0.46782641 0.46820052 0.46857464 0.46894875 0.46932286\n",
      " 0.46969697 0.47007108 0.47044519 0.4708193  0.47119342 0.47156753\n",
      " 0.47194164 0.47231575 0.47268986 0.47306397 0.47343808 0.4738122\n",
      " 0.47418631 0.47456042 0.47493453 0.47530864 0.47568275 0.47605686\n",
      " 0.47643098 0.47680509 0.4771792  0.47755331 0.47792742 0.47830153\n",
      " 0.47867565 0.47904976 0.47942387 0.47979798 0.48017209 0.4805462\n",
      " 0.48092031 0.48129443 0.48166854 0.48204265 0.48241676 0.48279087\n",
      " 0.48316498 0.48353909 0.48391321 0.48428732 0.48466143 0.48503554\n",
      " 0.48540965 0.48578376 0.48615788 0.48653199 0.4869061  0.48728021\n",
      " 0.48765432 0.48802843 0.48840254 0.48877666 0.48915077 0.48952488\n",
      " 0.48989899 0.4902731  0.49064721 0.49102132 0.49139544 0.49176955\n",
      " 0.49214366 0.49251777 0.49289188 0.49326599 0.4936401  0.49401422\n",
      " 0.49438833 0.49476244 0.49513655 0.49551066 0.49588477 0.49625889\n",
      " 0.496633   0.49700711 0.49738122 0.49775533 0.49812944 0.49850355\n",
      " 0.49887767 0.49925178 0.49962589 1.        ] [0.         0.34031799 0.3401804  0.34004604 0.33991492 0.33978705\n",
      " 0.33966243 0.33954106 0.33942294 0.33930808 0.33919649 0.33908816\n",
      " 0.3389831  0.33888131 0.33878279 0.33868755 0.33859559 0.33850692\n",
      " 0.33842153 0.33833942 0.33826061 0.33818509 0.33811287 0.33804394\n",
      " 0.33797831 0.33791598 0.33785695 0.33780123 0.33774881 0.33769971\n",
      " 0.33765391 0.33761142 0.33757224 0.33753637 0.33750382 0.33747458\n",
      " 0.33744866 0.33742606 0.33740677 0.3373908  0.33737815 0.33736881\n",
      " 0.3373628  0.3373601  0.33736072 0.33736466 0.33737192 0.3373825\n",
      " 0.3373964  0.33741361 0.33743415 0.337458   0.33748516 0.33751564\n",
      " 0.33754943 0.33758654 0.33762696 0.33767069 0.33771773 0.33776808\n",
      " 0.33782174 0.3378787  0.33793897 0.33800253 0.3380694  0.33813956\n",
      " 0.33821303 0.33828978 0.33836983 0.33845316 0.33853979 0.33862969\n",
      " 0.33872288 0.33881935 0.33891909 0.33902211 0.3391284  0.33923795\n",
      " 0.33935077 0.33946685 0.33958619 0.33970878 0.33983462 0.33996371\n",
      " 0.34009605 0.34023162 0.34037042 0.34051246 0.34065773 0.34080622\n",
      " 0.34095793 0.34111285 0.34127099 0.34143233 0.34159687 0.34176461\n",
      " 0.34193554 0.34210966 0.34228697 0.        ]\n",
      "0.48148148148148145 0.33742346589423333\n"
     ]
    },
    {
     "data": {
      "image/png": "[encoded data removed]",
      "text/plain": [
       "<Figure size 432x288 with 1 Axes>"
      ]
     },
     "metadata": {
      "needs_background": "light"
     },
     "output_type": "display_data"
    }
   ],
   "source": [
    "fpr, tpr, aucs, thresholds = dict(), dict(), dict(), dict()\n",
    "\n",
    "# store ROC metrics\n",
    "for i, (train, test) in enumerate(outer_cv.split(X=X_test, y=y_test)):\n",
    "    # for binary classification get probability for class 1\n",
    "    ypredict_proba = cv_clf.predict_proba(X_test[test])[:, 1]\n",
    "    ytest = y_test[test]\n",
    "    \n",
    "    if np.unique(ytest).size == 1:\n",
    "        continue\n",
    "\n",
    "    # print(ytest.shape, ypredict_proba.shape)\n",
    "    # print(ypredict_proba)\n",
    "    # print(ytest)\n",
    "\n",
    "    # compute the curve and AUC\n",
    "    fpr[i], tpr[i], thresholds[i] = roc_curve(y_true=ytest,\n",
    "                                              # pos_label=1,\n",
    "                                              y_score=ypredict_proba)\n",
    "    aucs[i] = roc_auc_score(y_true=ytest, y_score=ypredict_proba)\n",
    "    \n",
    "    \n",
    "print(ytest)\n",
    "print(aucs)\n",
    "\n",
    "# compute statistics on the ROC curve\n",
    "mean_fpr, mean_tpr, std_tpr = _generate_linspace_roc_from_dict(fpr.values(),  tpr.values(), \n",
    "                                                               n_points=100)\n",
    "\n",
    "mean_auc, std_auc = np.mean(list(aucs.values())), np.std(list(aucs.values()))\n",
    "\n",
    "print(mean_fpr, mean_tpr, std_tpr)\n",
    "print(mean_auc, std_auc)\n",
    "\n",
    "fig, ax = plt.subplots(1, 1)\n",
    "ax = _plot_roc_curve(mean_tpr, mean_fpr, std_tpr, mean_auc, std_auc, ax=ax)"
   ]
  },
  {
   "cell_type": "markdown",
   "metadata": {},
   "source": [
    "# Which Bet?\n",
    "\n",
    "Here, we try to classify which bet was taken (i.e. high or low)?"
   ]
  },
  {
   "cell_type": "code",
   "execution_count": 8,
   "metadata": {},
   "outputs": [
    {
     "name": "stdout",
     "output_type": "stream",
     "text": [
      "Extracting parameters from /Users/adam2392/Dropbox/efri/sub-efri06/ses-efri/ieeg/sub-efri06_ses-efri_task-war_acq-seeg_run-01_ieeg.vhdr...\n",
      "Setting channel info structure...\n",
      "Reading events from /Users/adam2392/Dropbox/efri/sub-efri06/ses-efri/ieeg/sub-efri06_ses-efri_task-war_acq-seeg_run-01_events.tsv.\n",
      "Reading channel info from /Users/adam2392/Dropbox/efri/sub-efri06/ses-efri/ieeg/sub-efri06_ses-efri_task-war_acq-seeg_run-01_channels.tsv.\n",
      "Out of 186 trials, there were 185 successful trials in sub-efri06_ses-efri_task-war_acq-seeg_run-01.\n",
      "Extracting parameters from /Users/adam2392/Dropbox/efri/sub-efri06/ses-efri/ieeg/sub-efri06_ses-efri_task-war_acq-seeg_run-01_ieeg.vhdr...\n",
      "Setting channel info structure...\n",
      "Reading events from /Users/adam2392/Dropbox/efri/sub-efri06/ses-efri/ieeg/sub-efri06_ses-efri_task-war_acq-seeg_run-01_events.tsv.\n",
      "Reading channel info from /Users/adam2392/Dropbox/efri/sub-efri06/ses-efri/ieeg/sub-efri06_ses-efri_task-war_acq-seeg_run-01_channels.tsv.\n",
      "Out of 186 trials, there were 185 successful trials in sub-efri06_ses-efri_task-war_acq-seeg_run-01.\n",
      "(185, 79, 1001) (185, 1)\n",
      "(138, 79, 1001) (138, 1) (185, 79, 1001)\n",
      "{'randomforestclassifier__max_depth': [None],\n",
      " 'randomforestclassifier__max_features': ['auto'],\n",
      " 'randomforestclassifier__min_samples_split': [2],\n",
      " 'randomforestclassifier__n_estimators': [200]}\n",
      "(138, 79, 1001) (138, 1)\n",
      "Fitting 10 folds for each of 1 candidates, totalling 10 fits\n"
     ]
    },
    {
     "name": "stderr",
     "output_type": "stream",
     "text": [
      "[Parallel(n_jobs=-1)]: Using backend LokyBackend with 8 concurrent workers.\n",
      "[Parallel(n_jobs=-1)]: Done   6 out of  10 | elapsed:    7.2s remaining:    4.8s\n",
      "[Parallel(n_jobs=-1)]: Done  10 out of  10 | elapsed:    9.4s finished\n"
     ]
    },
    {
     "name": "stdout",
     "output_type": "stream",
     "text": [
      "Fitting 10 folds for each of 1 candidates, totalling 10 fits\n"
     ]
    },
    {
     "name": "stderr",
     "output_type": "stream",
     "text": [
      "[Parallel(n_jobs=-1)]: Using backend LokyBackend with 8 concurrent workers.\n",
      "[Parallel(n_jobs=-1)]: Done   6 out of  10 | elapsed:    0.1s remaining:    0.0s\n"
     ]
    },
    {
     "name": "stdout",
     "output_type": "stream",
     "text": [
      "Fitting 10 folds for each of 1 candidates, totalling 10 fits\n"
     ]
    },
    {
     "name": "stderr",
     "output_type": "stream",
     "text": [
      "[Parallel(n_jobs=-1)]: Using backend LokyBackend with 8 concurrent workers.\n",
      "[Parallel(n_jobs=-1)]: Done   6 out of  10 | elapsed:    0.1s remaining:    0.1s\n",
      "Exception in thread QueueFeederThread:\n",
      "Traceback (most recent call last):\n",
      "  File \"/Users/adam2392/miniconda3/envs/rf/lib/python3.8/site-packages/joblib/externals/loky/backend/queues.py\", line 150, in _feed\n",
      "    obj_ = dumps(obj, reducers=reducers)\n",
      "  File \"/Users/adam2392/miniconda3/envs/rf/lib/python3.8/site-packages/joblib/externals/loky/backend/reduction.py\", line 247, in dumps\n",
      "    dump(obj, buf, reducers=reducers, protocol=protocol)\n",
      "  File \"/Users/adam2392/miniconda3/envs/rf/lib/python3.8/site-packages/joblib/externals/loky/backend/reduction.py\", line 240, in dump\n",
      "    _LokyPickler(file, reducers=reducers, protocol=protocol).dump(obj)\n",
      "  File \"/Users/adam2392/miniconda3/envs/rf/lib/python3.8/site-packages/joblib/externals/cloudpickle/cloudpickle_fast.py\", line 538, in dump\n",
      "    return Pickler.dump(self, obj)\n",
      "  File \"/Users/adam2392/miniconda3/envs/rf/lib/python3.8/site-packages/joblib/_memmapping_reducer.py\", line 340, in __call__\n",
      "    os.chmod(dumped_filename, FILE_PERMISSIONS)\n",
      "FileNotFoundError: [Errno 2] No such file or directory: '/var/folders/0p/knts5_1j38j6wvv3w_19584r0000gn/T/joblib_memmapping_folder_45832_6582375745/45832-5005965440-b3aff77f29f44861a7fa9a762fd439a6.pkl'\n",
      "\n",
      "During handling of the above exception, another exception occurred:\n",
      "\n",
      "Traceback (most recent call last):\n",
      "  File \"/Users/adam2392/miniconda3/envs/rf/lib/python3.8/threading.py\", line 932, in _bootstrap_inner\n",
      "    self.run()\n",
      "  File \"/Users/adam2392/miniconda3/envs/rf/lib/python3.8/threading.py\", line 870, in run\n",
      "    self._target(*self._args, **self._kwargs)\n",
      "  File \"/Users/adam2392/miniconda3/envs/rf/lib/python3.8/site-packages/joblib/externals/loky/backend/queues.py\", line 175, in _feed\n",
      "    onerror(e, obj)\n",
      "  File \"/Users/adam2392/miniconda3/envs/rf/lib/python3.8/site-packages/joblib/externals/loky/process_executor.py\", line 310, in _on_queue_feeder_error\n",
      "[Parallel(n_jobs=-1)]: Using backend LokyBackend with 8 concurrent workers.\n",
      "    self.thread_wakeup.wakeup()\n",
      "  File \"/Users/adam2392/miniconda3/envs/rf/lib/python3.8/site-packages/joblib/externals/loky/process_executor.py\", line 155, in wakeup\n",
      "    self._writer.send_bytes(b\"\")\n",
      "  File \"/Users/adam2392/miniconda3/envs/rf/lib/python3.8/multiprocessing/connection.py\", line 183, in send_bytes\n",
      "    self._check_closed()\n",
      "  File \"/Users/adam2392/miniconda3/envs/rf/lib/python3.8/multiprocessing/connection.py\", line 136, in _check_closed\n",
      "    raise OSError(\"handle is closed\")\n",
      "OSError: handle is closed\n"
     ]
    },
    {
     "name": "stdout",
     "output_type": "stream",
     "text": [
      "Fitting 10 folds for each of 1 candidates, totalling 10 fits\n"
     ]
    },
    {
     "name": "stderr",
     "output_type": "stream",
     "text": [
      "[Parallel(n_jobs=-1)]: Done   6 out of  10 | elapsed:    0.1s remaining:    0.1s\n"
     ]
    },
    {
     "name": "stdout",
     "output_type": "stream",
     "text": [
      "Fitting 10 folds for each of 1 candidates, totalling 10 fits\n"
     ]
    },
    {
     "name": "stderr",
     "output_type": "stream",
     "text": [
      "[Parallel(n_jobs=-1)]: Using backend LokyBackend with 8 concurrent workers.\n",
      "Exception in thread QueueFeederThread:\n",
      "Traceback (most recent call last):\n",
      "  File \"/Users/adam2392/miniconda3/envs/rf/lib/python3.8/site-packages/joblib/externals/loky/backend/queues.py\", line 150, in _feed\n",
      "    obj_ = dumps(obj, reducers=reducers)\n",
      "  File \"/Users/adam2392/miniconda3/envs/rf/lib/python3.8/site-packages/joblib/externals/loky/backend/reduction.py\", line 247, in dumps\n",
      "    dump(obj, buf, reducers=reducers, protocol=protocol)\n",
      "  File \"/Users/adam2392/miniconda3/envs/rf/lib/python3.8/site-packages/joblib/externals/loky/backend/reduction.py\", line 240, in dump\n",
      "    _LokyPickler(file, reducers=reducers, protocol=protocol).dump(obj)\n",
      "  File \"/Users/adam2392/miniconda3/envs/rf/lib/python3.8/site-packages/joblib/externals/cloudpickle/cloudpickle_fast.py\", line 538, in dump\n",
      "    return Pickler.dump(self, obj)\n",
      "  File \"/Users/adam2392/miniconda3/envs/rf/lib/python3.8/site-packages/joblib/_memmapping_reducer.py\", line 340, in __call__\n",
      "    os.chmod(dumped_filename, FILE_PERMISSIONS)\n",
      "FileNotFoundError: [Errno 2] No such file or directory: '/var/folders/0p/knts5_1j38j6wvv3w_19584r0000gn/T/joblib_memmapping_folder_45832_5083492534/45832-5005979120-768575a535b24762b7c5ceba15e99b66.pkl'\n",
      "\n",
      "During handling of the above exception, another exception occurred:\n",
      "\n",
      "Traceback (most recent call last):\n",
      "  File \"/Users/adam2392/miniconda3/envs/rf/lib/python3.8/threading.py\", line 932, in _bootstrap_inner\n",
      "    self.run()\n",
      "  File \"/Users/adam2392/miniconda3/envs/rf/lib/python3.8/threading.py\", line 870, in run\n",
      "    self._target(*self._args, **self._kwargs)\n",
      "  File \"/Users/adam2392/miniconda3/envs/rf/lib/python3.8/site-packages/joblib/externals/loky/backend/queues.py\", line 175, in _feed\n",
      "    onerror(e, obj)\n",
      "  File \"/Users/adam2392/miniconda3/envs/rf/lib/python3.8/site-packages/joblib/externals/loky/process_executor.py\", line 310, in _on_queue_feeder_error\n",
      "    self.thread_wakeup.wakeup()\n",
      "  File \"/Users/adam2392/miniconda3/envs/rf/lib/python3.8/site-packages/joblib/externals/loky/process_executor.py\", line 155, in wakeup\n",
      "    self._writer.send_bytes(b\"\")\n",
      "  File \"/Users/adam2392/miniconda3/envs/rf/lib/python3.8/multiprocessing/connection.py\", line 183, in send_bytes\n",
      "    self._check_closed()\n",
      "  File \"/Users/adam2392/miniconda3/envs/rf/lib/python3.8/multiprocessing/connection.py\", line 136, in _check_closed\n",
      "    raise OSError(\"handle is closed\")\n",
      "OSError: handle is closed\n",
      "[Parallel(n_jobs=-1)]: Done   6 out of  10 | elapsed:    0.1s remaining:    0.1s\n",
      "Exception in thread QueueFeederThread:\n",
      "Traceback (most recent call last):\n",
      "  File \"/Users/adam2392/miniconda3/envs/rf/lib/python3.8/site-packages/joblib/externals/loky/backend/queues.py\", line 150, in _feed\n",
      "    obj_ = dumps(obj, reducers=reducers)\n",
      "  File \"/Users/adam2392/miniconda3/envs/rf/lib/python3.8/site-packages/joblib/externals/loky/backend/reduction.py\", line 247, in dumps\n",
      "    dump(obj, buf, reducers=reducers, protocol=protocol)\n",
      "  File \"/Users/adam2392/miniconda3/envs/rf/lib/python3.8/site-packages/joblib/externals/loky/backend/reduction.py\", line 240, in dump\n",
      "    _LokyPickler(file, reducers=reducers, protocol=protocol).dump(obj)\n",
      "  File \"/Users/adam2392/miniconda3/envs/rf/lib/python3.8/site-packages/joblib/externals/cloudpickle/cloudpickle_fast.py\", line 538, in dump\n",
      "    return Pickler.dump(self, obj)\n",
      "  File \"/Users/adam2392/miniconda3/envs/rf/lib/python3.8/site-packages/joblib/_memmapping_reducer.py\", line 340, in __call__\n",
      "    os.chmod(dumped_filename, FILE_PERMISSIONS)\n",
      "FileNotFoundError: [Errno 2] No such file or directory: '/var/folders/0p/knts5_1j38j6wvv3w_19584r0000gn/T/joblib_memmapping_folder_45832_1751076862/45832-5043061712-935cd575c42843f383bffde9b0b160c9.pkl'\n",
      "\n",
      "During handling of the above exception, another exception occurred:\n",
      "\n",
      "Traceback (most recent call last):\n",
      "  File \"/Users/adam2392/miniconda3/envs/rf/lib/python3.8/threading.py\", line 932, in _bootstrap_inner\n",
      "    self.run()\n",
      "  File \"/Users/adam2392/miniconda3/envs/rf/lib/python3.8/threading.py\", line 870, in run\n",
      "    self._target(*self._args, **self._kwargs)\n",
      "  File \"/Users/adam2392/miniconda3/envs/rf/lib/python3.8/site-packages/joblib/externals/loky/backend/queues.py\", line 175, in _feed\n",
      "    onerror(e, obj)\n",
      "  File \"/Users/adam2392/miniconda3/envs/rf/lib/python3.8/site-packages/joblib/externals/loky/process_executor.py\", line 310, in _on_queue_feeder_error\n",
      "    self.thread_wakeup.wakeup()\n",
      "  File \"/Users/adam2392/miniconda3/envs/rf/lib/python3.8/site-packages/joblib/externals/loky/process_executor.py\", line 155, in wakeup\n",
      "    self._writer.send_bytes(b\"\")\n",
      "  File \"/Users/adam2392/miniconda3/envs/rf/lib/python3.8/multiprocessing/connection.py\", line 183, in send_bytes\n",
      "    self._check_closed()\n",
      "  File \"/Users/adam2392/miniconda3/envs/rf/lib/python3.8/multiprocessing/connection.py\", line 136, in _check_closed\n",
      "[Parallel(n_jobs=-1)]: Using backend LokyBackend with 8 concurrent workers.\n",
      "    raise OSError(\"handle is closed\")\n",
      "OSError: handle is closed\n"
     ]
    },
    {
     "name": "stdout",
     "output_type": "stream",
     "text": [
      "Fitting 10 folds for each of 1 candidates, totalling 10 fits\n"
     ]
    },
    {
     "name": "stderr",
     "output_type": "stream",
     "text": [
      "[Parallel(n_jobs=-1)]: Done   6 out of  10 | elapsed:    0.1s remaining:    0.1s\n",
      "[Parallel(n_jobs=-1)]: Using backend LokyBackend with 8 concurrent workers.\n",
      "Exception in thread QueueFeederThread:\n",
      "Traceback (most recent call last):\n",
      "  File \"/Users/adam2392/miniconda3/envs/rf/lib/python3.8/site-packages/joblib/externals/loky/backend/queues.py\", line 150, in _feed\n"
     ]
    },
    {
     "name": "stdout",
     "output_type": "stream",
     "text": [
      "Fitting 10 folds for each of 1 candidates, totalling 10 fits\n"
     ]
    },
    {
     "name": "stderr",
     "output_type": "stream",
     "text": [
      "    obj_ = dumps(obj, reducers=reducers)\n",
      "  File \"/Users/adam2392/miniconda3/envs/rf/lib/python3.8/site-packages/joblib/externals/loky/backend/reduction.py\", line 247, in dumps\n",
      "    dump(obj, buf, reducers=reducers, protocol=protocol)\n",
      "  File \"/Users/adam2392/miniconda3/envs/rf/lib/python3.8/site-packages/joblib/externals/loky/backend/reduction.py\", line 240, in dump\n",
      "    _LokyPickler(file, reducers=reducers, protocol=protocol).dump(obj)\n",
      "  File \"/Users/adam2392/miniconda3/envs/rf/lib/python3.8/site-packages/joblib/externals/cloudpickle/cloudpickle_fast.py\", line 538, in dump\n",
      "    return Pickler.dump(self, obj)\n",
      "  File \"/Users/adam2392/miniconda3/envs/rf/lib/python3.8/site-packages/joblib/_memmapping_reducer.py\", line 340, in __call__\n",
      "    os.chmod(dumped_filename, FILE_PERMISSIONS)\n",
      "FileNotFoundError: [Errno 2] No such file or directory: '/var/folders/0p/knts5_1j38j6wvv3w_19584r0000gn/T/joblib_memmapping_folder_45832_2206607071/45832-5007935904-34bc179365fc49d484d16485461bd5f6.pkl'\n",
      "\n",
      "During handling of the above exception, another exception occurred:\n",
      "\n",
      "Traceback (most recent call last):\n",
      "  File \"/Users/adam2392/miniconda3/envs/rf/lib/python3.8/threading.py\", line 932, in _bootstrap_inner\n",
      "    self.run()\n",
      "  File \"/Users/adam2392/miniconda3/envs/rf/lib/python3.8/threading.py\", line 870, in run\n",
      "    self._target(*self._args, **self._kwargs)\n",
      "  File \"/Users/adam2392/miniconda3/envs/rf/lib/python3.8/site-packages/joblib/externals/loky/backend/queues.py\", line 175, in _feed\n",
      "    onerror(e, obj)\n",
      "  File \"/Users/adam2392/miniconda3/envs/rf/lib/python3.8/site-packages/joblib/externals/loky/process_executor.py\", line 310, in _on_queue_feeder_error\n",
      "    self.thread_wakeup.wakeup()\n",
      "  File \"/Users/adam2392/miniconda3/envs/rf/lib/python3.8/site-packages/joblib/externals/loky/process_executor.py\", line 155, in wakeup\n",
      "    self._writer.send_bytes(b\"\")\n",
      "  File \"/Users/adam2392/miniconda3/envs/rf/lib/python3.8/multiprocessing/connection.py\", line 183, in send_bytes\n",
      "    self._check_closed()\n",
      "  File \"/Users/adam2392/miniconda3/envs/rf/lib/python3.8/multiprocessing/connection.py\", line 136, in _check_closed\n",
      "    raise OSError(\"handle is closed\")\n",
      "OSError: handle is closed\n",
      "[Parallel(n_jobs=-1)]: Done   6 out of  10 | elapsed:    0.2s remaining:    0.1s\n",
      "Exception in thread QueueFeederThread:\n",
      "Traceback (most recent call last):\n",
      "  File \"/Users/adam2392/miniconda3/envs/rf/lib/python3.8/site-packages/joblib/externals/loky/backend/queues.py\", line 150, in _feed\n",
      "    obj_ = dumps(obj, reducers=reducers)\n",
      "  File \"/Users/adam2392/miniconda3/envs/rf/lib/python3.8/site-packages/joblib/externals/loky/backend/reduction.py\", line 247, in dumps\n",
      "    dump(obj, buf, reducers=reducers, protocol=protocol)\n",
      "  File \"/Users/adam2392/miniconda3/envs/rf/lib/python3.8/site-packages/joblib/externals/loky/backend/reduction.py\", line 240, in dump\n",
      "    _LokyPickler(file, reducers=reducers, protocol=protocol).dump(obj)\n",
      "  File \"/Users/adam2392/miniconda3/envs/rf/lib/python3.8/site-packages/joblib/externals/cloudpickle/cloudpickle_fast.py\", line 538, in dump\n",
      "    return Pickler.dump(self, obj)\n",
      "  File \"/Users/adam2392/miniconda3/envs/rf/lib/python3.8/site-packages/joblib/_memmapping_reducer.py\", line 340, in __call__\n",
      "    os.chmod(dumped_filename, FILE_PERMISSIONS)\n",
      "FileNotFoundError: [Errno 2] No such file or directory: '/var/folders/0p/knts5_1j38j6wvv3w_19584r0000gn/T/joblib_memmapping_folder_45832_1207452528/45832-5005040512-0adfeb02d6504f7b8f9c8f88bec0bfed.pkl'\n",
      "\n",
      "During handling of the above exception, another exception occurred:\n",
      "\n",
      "Traceback (most recent call last):\n",
      "  File \"/Users/adam2392/miniconda3/envs/rf/lib/python3.8/threading.py\", line 932, in _bootstrap_inner\n",
      "    self.run()\n",
      "  File \"/Users/adam2392/miniconda3/envs/rf/lib/python3.8/threading.py\", line 870, in run\n",
      "    self._target(*self._args, **self._kwargs)\n",
      "  File \"/Users/adam2392/miniconda3/envs/rf/lib/python3.8/site-packages/joblib/externals/loky/backend/queues.py\", line 175, in _feed\n",
      "    onerror(e, obj)\n",
      "  File \"/Users/adam2392/miniconda3/envs/rf/lib/python3.8/site-packages/joblib/externals/loky/process_executor.py\", line 310, in _on_queue_feeder_error\n",
      "    self.thread_wakeup.wakeup()\n",
      "  File \"/Users/adam2392/miniconda3/envs/rf/lib/python3.8/site-packages/joblib/externals/loky/process_executor.py\", line 155, in wakeup\n",
      "    self._writer.send_bytes(b\"\")\n",
      "  File \"/Users/adam2392/miniconda3/envs/rf/lib/python3.8/multiprocessing/connection.py\", line 183, in send_bytes\n",
      "    self._check_closed()\n",
      "  File \"/Users/adam2392/miniconda3/envs/rf/lib/python3.8/multiprocessing/connection.py\", line 136, in _check_closed\n",
      "    raise OSError(\"handle is closed\")\n",
      "OSError: handle is closed\n"
     ]
    },
    {
     "name": "stdout",
     "output_type": "stream",
     "text": [
      "Fitting 10 folds for each of 1 candidates, totalling 10 fits\n"
     ]
    },
    {
     "name": "stderr",
     "output_type": "stream",
     "text": [
      "[Parallel(n_jobs=-1)]: Using backend LokyBackend with 8 concurrent workers.\n",
      "exception calling callback for <Future at 0x12a6149a0 state=finished raised TerminatedWorkerError>\n",
      "Traceback (most recent call last):\n",
      "  File \"/Users/adam2392/miniconda3/envs/rf/lib/python3.8/site-packages/joblib/externals/loky/_base.py\", line 625, in _invoke_callbacks\n",
      "    callback(self)\n",
      "  File \"/Users/adam2392/miniconda3/envs/rf/lib/python3.8/site-packages/joblib/parallel.py\", line 340, in __call__\n",
      "    self.parallel.dispatch_next()\n",
      "  File \"/Users/adam2392/miniconda3/envs/rf/lib/python3.8/site-packages/joblib/parallel.py\", line 769, in dispatch_next\n",
      "    if not self.dispatch_one_batch(self._original_iterator):\n",
      "  File \"/Users/adam2392/miniconda3/envs/rf/lib/python3.8/site-packages/joblib/parallel.py\", line 835, in dispatch_one_batch\n",
      "    self._dispatch(tasks)\n",
      "  File \"/Users/adam2392/miniconda3/envs/rf/lib/python3.8/site-packages/joblib/parallel.py\", line 754, in _dispatch\n",
      "    job = self._backend.apply_async(batch, callback=cb)\n",
      "  File \"/Users/adam2392/miniconda3/envs/rf/lib/python3.8/site-packages/joblib/_parallel_backends.py\", line 551, in apply_async\n",
      "    future = self._workers.submit(SafeFunction(func))\n",
      "  File \"/Users/adam2392/miniconda3/envs/rf/lib/python3.8/site-packages/joblib/externals/loky/reusable_executor.py\", line 159, in submit\n",
      "    return super(_ReusablePoolExecutor, self).submit(\n",
      "  File \"/Users/adam2392/miniconda3/envs/rf/lib/python3.8/site-packages/joblib/externals/loky/process_executor.py\", line 1027, in submit\n",
      "    raise self._flags.broken\n",
      "  File \"/Users/adam2392/miniconda3/envs/rf/lib/python3.8/site-packages/sklearn/model_selection/_search.py\", line 710, in fit\n",
      "    self._run_search(evaluate_candidates)\n",
      "  File \"/Users/adam2392/miniconda3/envs/rf/lib/python3.8/site-packages/sklearn/model_selection/_search.py\", line 1482, in _run_search\n",
      "    evaluate_candidates(ParameterSampler(\n",
      "  File \"/Users/adam2392/miniconda3/envs/rf/lib/python3.8/site-packages/sklearn/model_selection/_search.py\", line 682, in evaluate_candidates\n",
      "    out = parallel(delayed(_fit_and_score)(clone(base_estimator),\n",
      "  File \"/Users/adam2392/miniconda3/envs/rf/lib/python3.8/site-packages/joblib/parallel.py\", line 1007, in __call__\n",
      "    while self.dispatch_one_batch(iterator):\n",
      "  File \"/Users/adam2392/miniconda3/envs/rf/lib/python3.8/site-packages/joblib/parallel.py\", line 835, in dispatch_one_batch\n",
      "    self._dispatch(tasks)\n",
      "  File \"/Users/adam2392/miniconda3/envs/rf/lib/python3.8/site-packages/joblib/parallel.py\", line 754, in _dispatch\n",
      "    job = self._backend.apply_async(batch, callback=cb)\n",
      "  File \"/Users/adam2392/miniconda3/envs/rf/lib/python3.8/site-packages/joblib/_parallel_backends.py\", line 551, in apply_async\n",
      "    future = self._workers.submit(SafeFunction(func))\n",
      "  File \"/Users/adam2392/miniconda3/envs/rf/lib/python3.8/site-packages/joblib/externals/loky/reusable_executor.py\", line 159, in submit\n",
      "    return super(_ReusablePoolExecutor, self).submit(\n",
      "  File \"/Users/adam2392/miniconda3/envs/rf/lib/python3.8/site-packages/joblib/externals/loky/process_executor.py\", line 1027, in submit\n",
      "    raise self._flags.broken\n",
      "joblib.externals.loky.process_executor.TerminatedWorkerError: A worker process managed by the executor was unexpectedly terminated. This could be caused by a segmentation fault while calling the function or by an excessive memory usage causing the Operating System to kill the worker. The exit codes of the workers are {SIGABRT(-6), SIGABRT(-6), SIGABRT(-6), SIGABRT(-6), SIGABRT(-6), SIGABRT(-6), SIGABRT(-6), SIGABRT(-6)}\n"
     ]
    },
    {
     "name": "stdout",
     "output_type": "stream",
     "text": [
      "Fitting 10 folds for each of 1 candidates, totalling 10 fits\n"
     ]
    },
    {
     "name": "stderr",
     "output_type": "stream",
     "text": [
      "[Parallel(n_jobs=-1)]: Done   6 out of  10 | elapsed:    0.1s remaining:    0.1s\n",
      "[Parallel(n_jobs=-1)]: Using backend LokyBackend with 8 concurrent workers.\n",
      "[Parallel(n_jobs=-1)]: Done   6 out of  10 | elapsed:    0.1s remaining:    0.1s\n",
      "Exception in thread QueueFeederThread:\n",
      "Traceback (most recent call last):\n",
      "  File \"/Users/adam2392/miniconda3/envs/rf/lib/python3.8/site-packages/joblib/externals/loky/backend/queues.py\", line 150, in _feed\n",
      "    obj_ = dumps(obj, reducers=reducers)\n",
      "  File \"/Users/adam2392/miniconda3/envs/rf/lib/python3.8/site-packages/joblib/externals/loky/backend/reduction.py\", line 247, in dumps\n",
      "    dump(obj, buf, reducers=reducers, protocol=protocol)\n",
      "  File \"/Users/adam2392/miniconda3/envs/rf/lib/python3.8/site-packages/joblib/externals/loky/backend/reduction.py\", line 240, in dump\n",
      "    _LokyPickler(file, reducers=reducers, protocol=protocol).dump(obj)\n",
      "  File \"/Users/adam2392/miniconda3/envs/rf/lib/python3.8/site-packages/joblib/externals/cloudpickle/cloudpickle_fast.py\", line 538, in dump\n",
      "    return Pickler.dump(self, obj)\n",
      "  File \"/Users/adam2392/miniconda3/envs/rf/lib/python3.8/site-packages/joblib/_memmapping_reducer.py\", line 340, in __call__\n",
      "    os.chmod(dumped_filename, FILE_PERMISSIONS)\n",
      "FileNotFoundError: [Errno 2] No such file or directory: '/var/folders/0p/knts5_1j38j6wvv3w_19584r0000gn/T/joblib_memmapping_folder_45832_4056538561/45832-5005044608-901d6c7ce36b40e09059d505f8cbf34d.pkl'\n",
      "\n",
      "During handling of the above exception, another exception occurred:\n",
      "\n",
      "Traceback (most recent call last):\n",
      "  File \"/Users/adam2392/miniconda3/envs/rf/lib/python3.8/threading.py\", line 932, in _bootstrap_inner\n",
      "    self.run()\n",
      "  File \"/Users/adam2392/miniconda3/envs/rf/lib/python3.8/threading.py\", line 870, in run\n",
      "    self._target(*self._args, **self._kwargs)\n",
      "  File \"/Users/adam2392/miniconda3/envs/rf/lib/python3.8/site-packages/joblib/externals/loky/backend/queues.py\", line 175, in _feed\n",
      "    onerror(e, obj)\n",
      "  File \"/Users/adam2392/miniconda3/envs/rf/lib/python3.8/site-packages/joblib/externals/loky/process_executor.py\", line 310, in _on_queue_feeder_error\n",
      "    self.thread_wakeup.wakeup()\n",
      "  File \"/Users/adam2392/miniconda3/envs/rf/lib/python3.8/site-packages/joblib/externals/loky/process_executor.py\", line 155, in wakeup\n",
      "    self._writer.send_bytes(b\"\")\n",
      "  File \"/Users/adam2392/miniconda3/envs/rf/lib/python3.8/multiprocessing/connection.py\", line 183, in send_bytes\n",
      "    self._check_closed()\n",
      "  File \"/Users/adam2392/miniconda3/envs/rf/lib/python3.8/multiprocessing/connection.py\", line 136, in _check_closed\n",
      "    raise OSError(\"handle is closed\")\n",
      "OSError: handle is closed\n"
     ]
    },
    {
     "name": "stdout",
     "output_type": "stream",
     "text": [
      "Fitting 10 folds for each of 1 candidates, totalling 10 fits\n"
     ]
    },
    {
     "name": "stderr",
     "output_type": "stream",
     "text": [
      "[Parallel(n_jobs=-1)]: Using backend LokyBackend with 8 concurrent workers.\n",
      "exception calling callback for <Future at 0x12a7f07c0 state=finished raised TerminatedWorkerError>\n",
      "Traceback (most recent call last):\n",
      "  File \"/Users/adam2392/miniconda3/envs/rf/lib/python3.8/site-packages/joblib/externals/loky/_base.py\", line 625, in _invoke_callbacks\n",
      "    callback(self)\n",
      "  File \"/Users/adam2392/miniconda3/envs/rf/lib/python3.8/site-packages/joblib/parallel.py\", line 340, in __call__\n",
      "    self.parallel.dispatch_next()\n",
      "  File \"/Users/adam2392/miniconda3/envs/rf/lib/python3.8/site-packages/joblib/parallel.py\", line 769, in dispatch_next\n",
      "    if not self.dispatch_one_batch(self._original_iterator):\n",
      "  File \"/Users/adam2392/miniconda3/envs/rf/lib/python3.8/site-packages/joblib/parallel.py\", line 835, in dispatch_one_batch\n",
      "    self._dispatch(tasks)\n",
      "  File \"/Users/adam2392/miniconda3/envs/rf/lib/python3.8/site-packages/joblib/parallel.py\", line 754, in _dispatch\n",
      "    job = self._backend.apply_async(batch, callback=cb)\n",
      "  File \"/Users/adam2392/miniconda3/envs/rf/lib/python3.8/site-packages/joblib/_parallel_backends.py\", line 551, in apply_async\n",
      "    future = self._workers.submit(SafeFunction(func))\n",
      "  File \"/Users/adam2392/miniconda3/envs/rf/lib/python3.8/site-packages/joblib/externals/loky/reusable_executor.py\", line 159, in submit\n",
      "    return super(_ReusablePoolExecutor, self).submit(\n",
      "  File \"/Users/adam2392/miniconda3/envs/rf/lib/python3.8/site-packages/joblib/externals/loky/process_executor.py\", line 1027, in submit\n",
      "    raise self._flags.broken\n",
      "  File \"/Users/adam2392/miniconda3/envs/rf/lib/python3.8/site-packages/sklearn/model_selection/_search.py\", line 710, in fit\n",
      "    self._run_search(evaluate_candidates)\n",
      "  File \"/Users/adam2392/miniconda3/envs/rf/lib/python3.8/site-packages/sklearn/model_selection/_search.py\", line 1482, in _run_search\n",
      "    evaluate_candidates(ParameterSampler(\n",
      "  File \"/Users/adam2392/miniconda3/envs/rf/lib/python3.8/site-packages/sklearn/model_selection/_search.py\", line 682, in evaluate_candidates\n",
      "    out = parallel(delayed(_fit_and_score)(clone(base_estimator),\n",
      "  File \"/Users/adam2392/miniconda3/envs/rf/lib/python3.8/site-packages/joblib/parallel.py\", line 1007, in __call__\n",
      "    while self.dispatch_one_batch(iterator):\n",
      "  File \"/Users/adam2392/miniconda3/envs/rf/lib/python3.8/site-packages/joblib/parallel.py\", line 835, in dispatch_one_batch\n",
      "    self._dispatch(tasks)\n",
      "  File \"/Users/adam2392/miniconda3/envs/rf/lib/python3.8/site-packages/joblib/parallel.py\", line 754, in _dispatch\n",
      "    job = self._backend.apply_async(batch, callback=cb)\n",
      "  File \"/Users/adam2392/miniconda3/envs/rf/lib/python3.8/site-packages/joblib/_parallel_backends.py\", line 551, in apply_async\n",
      "    future = self._workers.submit(SafeFunction(func))\n",
      "  File \"/Users/adam2392/miniconda3/envs/rf/lib/python3.8/site-packages/joblib/externals/loky/reusable_executor.py\", line 159, in submit\n",
      "    return super(_ReusablePoolExecutor, self).submit(\n",
      "  File \"/Users/adam2392/miniconda3/envs/rf/lib/python3.8/site-packages/joblib/externals/loky/process_executor.py\", line 1027, in submit\n",
      "    raise self._flags.broken\n",
      "joblib.externals.loky.process_executor.TerminatedWorkerError: A worker process managed by the executor was unexpectedly terminated. This could be caused by a segmentation fault while calling the function or by an excessive memory usage causing the Operating System to kill the worker. The exit codes of the workers are {SIGABRT(-6), SIGABRT(-6), SIGABRT(-6), SIGABRT(-6), SIGABRT(-6), SIGABRT(-6), SIGABRT(-6), SIGABRT(-6)}\n",
      "[Parallel(n_jobs=-1)]: Done   6 out of  10 | elapsed:    0.1s remaining:    0.1s\n"
     ]
    },
    {
     "name": "stdout",
     "output_type": "stream",
     "text": [
      "Fitting 10 folds for each of 1 candidates, totalling 10 fits\n"
     ]
    },
    {
     "name": "stderr",
     "output_type": "stream",
     "text": [
      "[Parallel(n_jobs=-1)]: Using backend LokyBackend with 8 concurrent workers.\n",
      "Exception in thread QueueFeederThread:\n",
      "Traceback (most recent call last):\n",
      "  File \"/Users/adam2392/miniconda3/envs/rf/lib/python3.8/site-packages/joblib/externals/loky/backend/queues.py\", line 150, in _feed\n",
      "    obj_ = dumps(obj, reducers=reducers)\n",
      "  File \"/Users/adam2392/miniconda3/envs/rf/lib/python3.8/site-packages/joblib/externals/loky/backend/reduction.py\", line 247, in dumps\n",
      "    dump(obj, buf, reducers=reducers, protocol=protocol)\n",
      "  File \"/Users/adam2392/miniconda3/envs/rf/lib/python3.8/site-packages/joblib/externals/loky/backend/reduction.py\", line 240, in dump\n",
      "    _LokyPickler(file, reducers=reducers, protocol=protocol).dump(obj)\n",
      "  File \"/Users/adam2392/miniconda3/envs/rf/lib/python3.8/site-packages/joblib/externals/cloudpickle/cloudpickle_fast.py\", line 538, in dump\n",
      "    return Pickler.dump(self, obj)\n",
      "  File \"/Users/adam2392/miniconda3/envs/rf/lib/python3.8/site-packages/joblib/_memmapping_reducer.py\", line 340, in __call__\n",
      "    os.chmod(dumped_filename, FILE_PERMISSIONS)\n",
      "FileNotFoundError: [Errno 2] No such file or directory: '/var/folders/0p/knts5_1j38j6wvv3w_19584r0000gn/T/joblib_memmapping_folder_45832_1224290804/45832-5005041472-fe43f459a5e9431fbaca68803d009d81.pkl'\n",
      "\n",
      "During handling of the above exception, another exception occurred:\n",
      "\n",
      "Traceback (most recent call last):\n",
      "  File \"/Users/adam2392/miniconda3/envs/rf/lib/python3.8/threading.py\", line 932, in _bootstrap_inner\n",
      "    self.run()\n",
      "  File \"/Users/adam2392/miniconda3/envs/rf/lib/python3.8/threading.py\", line 870, in run\n",
      "    self._target(*self._args, **self._kwargs)\n",
      "  File \"/Users/adam2392/miniconda3/envs/rf/lib/python3.8/site-packages/joblib/externals/loky/backend/queues.py\", line 175, in _feed\n",
      "    onerror(e, obj)\n",
      "  File \"/Users/adam2392/miniconda3/envs/rf/lib/python3.8/site-packages/joblib/externals/loky/process_executor.py\", line 310, in _on_queue_feeder_error\n",
      "    self.thread_wakeup.wakeup()\n",
      "  File \"/Users/adam2392/miniconda3/envs/rf/lib/python3.8/site-packages/joblib/externals/loky/process_executor.py\", line 155, in wakeup\n",
      "    self._writer.send_bytes(b\"\")\n",
      "  File \"/Users/adam2392/miniconda3/envs/rf/lib/python3.8/multiprocessing/connection.py\", line 183, in send_bytes\n",
      "    self._check_closed()\n",
      "  File \"/Users/adam2392/miniconda3/envs/rf/lib/python3.8/multiprocessing/connection.py\", line 136, in _check_closed\n",
      "    raise OSError(\"handle is closed\")\n",
      "OSError: handle is closed\n",
      "[Parallel(n_jobs=-1)]: Done   6 out of  10 | elapsed:    0.1s remaining:    0.1s\n"
     ]
    },
    {
     "name": "stdout",
     "output_type": "stream",
     "text": [
      "   tpr  fpr  thresholds\n",
      "0  NaN  NaN         NaN\n",
      "1  NaN  NaN         NaN\n",
      "2  NaN  NaN         NaN\n",
      "Average difference of    nan with std. dev. of    nan.\n",
      "{'randomforestclassifier__n_estimators': 200, 'randomforestclassifier__min_samples_split': 2, 'randomforestclassifier__max_features': 'auto', 'randomforestclassifier__max_depth': None}\n"
     ]
    },
    {
     "name": "stderr",
     "output_type": "stream",
     "text": [
      "Exception in thread QueueFeederThread:\n",
      "Traceback (most recent call last):\n",
      "  File \"/Users/adam2392/miniconda3/envs/rf/lib/python3.8/site-packages/joblib/externals/loky/backend/queues.py\", line 150, in _feed\n",
      "    obj_ = dumps(obj, reducers=reducers)\n",
      "  File \"/Users/adam2392/miniconda3/envs/rf/lib/python3.8/site-packages/joblib/externals/loky/backend/reduction.py\", line 247, in dumps\n",
      "    dump(obj, buf, reducers=reducers, protocol=protocol)\n",
      "  File \"/Users/adam2392/miniconda3/envs/rf/lib/python3.8/site-packages/joblib/externals/loky/backend/reduction.py\", line 240, in dump\n"
     ]
    }
   ],
   "source": [
    "# read epochs data\n",
    "epochs_low, y = _load_data(bids_basename, bids_root, \n",
    "                            label_keyword=None, \n",
    "                            event_key='bet 5', verbose=False)\n",
    "ylow = np.zeros((len(epochs_low),))\n",
    "\n",
    "epochs_high, y = _load_data(bids_basename, bids_root, \n",
    "                            label_keyword=None, \n",
    "                            event_key='bet 20', verbose=False)\n",
    "yhigh = np.ones((len(epochs_high),))\n",
    "\n",
    "epochs = mne.concatenate_epochs([epochs_low, epochs_high])\n",
    "y = np.concatenate((ylow, yhigh))\n",
    "\n",
    "# make sure y labels are properly binarized\n",
    "lb = LabelBinarizer(neg_label=0, pos_label=1)\n",
    "y = lb.fit_transform(y)\n",
    "# print(y)\n",
    "\n",
    "\n",
    "# create X array\n",
    "X = epochs.get_data()\n",
    "\n",
    "print(X.shape, y.shape)\n",
    "\n",
    "# features, so the resulting filters used are spatio-temporal\n",
    "clf = make_pipeline(\n",
    "    Scaler(epochs_show.info),  # apply z-normalization across all channels\n",
    "    Vectorizer(),\n",
    "    RandomForestClassifier()\n",
    ")\n",
    "\n",
    "# make sure to hold out some data as test\n",
    "X_train, X_test, y_train, y_test = train_test_split(X, y)\n",
    "\n",
    "print(X_train.shape, y_train.shape, X.shape)\n",
    "\n",
    "# feed in training to cross-validation, which will use training/validation data\n",
    "# to iterate the classifier\n",
    "cv_clf, outer_cv = cv_fit(clf, X_train, y_train, shuffle=True, apply_groups=False)"
   ]
  },
  {
   "cell_type": "code",
   "execution_count": 10,
   "metadata": {},
   "outputs": [
    {
     "name": "stdout",
     "output_type": "stream",
     "text": [
      "[[1]\n",
      " [1]\n",
      " [0]\n",
      " [1]]\n",
      "{0: 0.75, 1: 0.5, 2: 0.33333333333333337, 3: 0.25, 4: 0.6666666666666667, 5: 0.0, 6: 0.41666666666666663, 7: 1.0, 9: 0.0}\n",
      "[0.         0.01010101 0.02020202 0.03030303 0.04040404 0.05050505\n",
      " 0.06060606 0.07070707 0.08080808 0.09090909 0.1010101  0.11111111\n",
      " 0.12121212 0.13131313 0.14141414 0.15151515 0.16161616 0.17171717\n",
      " 0.18181818 0.19191919 0.2020202  0.21212121 0.22222222 0.23232323\n",
      " 0.24242424 0.25252525 0.26262626 0.27272727 0.28282828 0.29292929\n",
      " 0.3030303  0.31313131 0.32323232 0.33333333 0.34343434 0.35353535\n",
      " 0.36363636 0.37373737 0.38383838 0.39393939 0.4040404  0.41414141\n",
      " 0.42424242 0.43434343 0.44444444 0.45454545 0.46464646 0.47474747\n",
      " 0.48484848 0.49494949 0.50505051 0.51515152 0.52525253 0.53535354\n",
      " 0.54545455 0.55555556 0.56565657 0.57575758 0.58585859 0.5959596\n",
      " 0.60606061 0.61616162 0.62626263 0.63636364 0.64646465 0.65656566\n",
      " 0.66666667 0.67676768 0.68686869 0.6969697  0.70707071 0.71717172\n",
      " 0.72727273 0.73737374 0.74747475 0.75757576 0.76767677 0.77777778\n",
      " 0.78787879 0.7979798  0.80808081 0.81818182 0.82828283 0.83838384\n",
      " 0.84848485 0.85858586 0.86868687 0.87878788 0.88888889 0.8989899\n",
      " 0.90909091 0.91919192 0.92929293 0.93939394 0.94949495 0.95959596\n",
      " 0.96969697 0.97979798 0.98989899 1.        ] [0.         0.17592593 0.17592593 0.17592593 0.17592593 0.17592593\n",
      " 0.17592593 0.17592593 0.17592593 0.17592593 0.17592593 0.17592593\n",
      " 0.17592593 0.17592593 0.17592593 0.17592593 0.17592593 0.17592593\n",
      " 0.17592593 0.17592593 0.17592593 0.17592593 0.17592593 0.17592593\n",
      " 0.17592593 0.28703704 0.28703704 0.28703704 0.28703704 0.28703704\n",
      " 0.28703704 0.28703704 0.28703704 0.39814815 0.39814815 0.39814815\n",
      " 0.39814815 0.39814815 0.39814815 0.39814815 0.39814815 0.39814815\n",
      " 0.39814815 0.39814815 0.39814815 0.39814815 0.39814815 0.39814815\n",
      " 0.39814815 0.39814815 0.50963337 0.51038159 0.51112982 0.51187804\n",
      " 0.51262626 0.51337449 0.51412271 0.51487093 0.51561915 0.51636738\n",
      " 0.5171156  0.51786382 0.51861205 0.51936027 0.52010849 0.52085672\n",
      " 0.63271605 0.63346427 0.6342125  0.63496072 0.63570894 0.63645716\n",
      " 0.63720539 0.63795361 0.63870183 0.63945006 0.64019828 0.6409465\n",
      " 0.64169473 0.64244295 0.64319117 0.64393939 0.64468762 0.64543584\n",
      " 0.64618406 0.64693229 0.64768051 0.64842873 0.64917695 0.64992518\n",
      " 0.6506734  0.65142162 0.65216985 0.65291807 0.65366629 0.65441452\n",
      " 0.65516274 0.65591096 0.65665918 1.        ] [0.         0.31535901 0.31535901 0.31535901 0.31535901 0.31535901\n",
      " 0.31535901 0.31535901 0.31535901 0.31535901 0.31535901 0.31535901\n",
      " 0.31535901 0.31535901 0.31535901 0.31535901 0.31535901 0.31535901\n",
      " 0.31535901 0.31535901 0.31535901 0.31535901 0.31535901 0.31535901\n",
      " 0.31535901 0.3989011  0.3989011  0.3989011  0.3989011  0.3989011\n",
      " 0.3989011  0.3989011  0.3989011  0.44056953 0.44056953 0.44056953\n",
      " 0.44056953 0.44056953 0.44056953 0.44056953 0.44056953 0.44056953\n",
      " 0.44056953 0.44056953 0.44056953 0.44056953 0.44056953 0.44056953\n",
      " 0.44056953 0.44056953 0.45195029 0.45166886 0.45139717 0.45113525\n",
      " 0.45088311 0.45064077 0.45040824 0.45018554 0.44997269 0.44976969\n",
      " 0.44957656 0.44939331 0.44921996 0.44905652 0.44890299 0.4487594\n",
      " 0.42909005 0.42876685 0.42845386 0.4281511  0.4278586  0.42757637\n",
      " 0.42730443 0.42704281 0.42679152 0.42655059 0.42632002 0.42609984\n",
      " 0.42589007 0.42569071 0.42550178 0.4253233  0.42515528 0.42499773\n",
      " 0.42485066 0.42471409 0.42458802 0.42447247 0.42436744 0.42427294\n",
      " 0.42418898 0.42411556 0.42405269 0.42400037 0.42395861 0.42392741\n",
      " 0.42390678 0.42389671 0.4238972  0.        ]\n",
      "0.4351851851851852 0.316173538499331\n"
     ]
    },
    {
     "data": {
      "image/png": "[encoded data removed]",
      "text/plain": [
       "<Figure size 432x288 with 1 Axes>"
      ]
     },
     "metadata": {
      "needs_background": "light"
     },
     "output_type": "display_data"
    }
   ],
   "source": [
    "fpr, tpr, aucs, thresholds = dict(), dict(), dict(), dict()\n",
    "\n",
    "# store ROC metrics\n",
    "for i, (train, test) in enumerate(outer_cv.split(X=X_test, y=y_test)):\n",
    "    # for binary classification get probability for class 1\n",
    "    ypredict_proba = cv_clf.predict_proba(X_test[test])[:, 1]\n",
    "    ytest = y_test[test]\n",
    "    \n",
    "    if np.unique(ytest).size == 1:\n",
    "        continue\n",
    "\n",
    "    # print(ytest.shape, ypredict_proba.shape)\n",
    "    # print(ypredict_proba)\n",
    "    # print(ytest)\n",
    "\n",
    "    # compute the curve and AUC\n",
    "    fpr[i], tpr[i], thresholds[i] = roc_curve(y_true=ytest,\n",
    "                                              # pos_label=1,\n",
    "                                              y_score=ypredict_proba)\n",
    "    aucs[i] = roc_auc_score(y_true=ytest, y_score=ypredict_proba)\n",
    "    \n",
    "    \n",
    "print(ytest)\n",
    "print(aucs)\n",
    "\n",
    "# compute statistics on the ROC curve\n",
    "mean_fpr, mean_tpr, std_tpr = _generate_linspace_roc_from_dict(fpr.values(),  tpr.values(), \n",
    "                                                               n_points=100)\n",
    "\n",
    "mean_auc, std_auc = np.mean(list(aucs.values())), np.std(list(aucs.values()))\n",
    "\n",
    "print(mean_fpr, mean_tpr, std_tpr)\n",
    "print(mean_auc, std_auc)\n",
    "\n",
    "fig, ax = plt.subplots(1, 1)\n",
    "ax = _plot_roc_curve(mean_tpr, mean_fpr, std_tpr, mean_auc, std_auc, ax=ax)"
   ]
  },
  {
   "cell_type": "markdown",
   "metadata": {},
   "source": [
    "# Discussion"
   ]
  },
  {
   "cell_type": "code",
   "execution_count": null,
   "metadata": {},
   "outputs": [],
   "source": [
    "    "
   ]
  }
 ],
 "metadata": {
  "kernelspec": {
   "display_name": "rf",
   "language": "python",
   "name": "rf"
  },
  "language_info": {
   "codemirror_mode": {
    "name": "ipython",
    "version": 3
   },
   "file_extension": ".py",
   "mimetype": "text/x-python",
   "name": "python",
   "nbconvert_exporter": "python",
   "pygments_lexer": "ipython3",
   "version": "3.8.2"
  }
 },
 "nbformat": 4,
 "nbformat_minor": 2
}
