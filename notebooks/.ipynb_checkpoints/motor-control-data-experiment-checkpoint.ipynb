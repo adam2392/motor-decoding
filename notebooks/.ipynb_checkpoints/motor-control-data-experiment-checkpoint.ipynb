{
 "cells": [
  {
   "cell_type": "markdown",
   "metadata": {},
   "source": [
    "# Classification Experiments on Motor Control Data\n",
    "\n",
    "Motor data is described within README."
   ]
  },
  {
   "cell_type": "code",
   "execution_count": 1,
   "metadata": {},
   "outputs": [
    {
     "name": "stdout",
     "output_type": "stream",
     "text": [
      "/Users/adam2392/Documents/SPORF\n"
     ]
    }
   ],
   "source": [
    "cd ../../../../"
   ]
  },
  {
   "cell_type": "code",
   "execution_count": 13,
   "metadata": {},
   "outputs": [
    {
     "name": "stdout",
     "output_type": "stream",
     "text": [
      "3.8.2 | packaged by conda-forge | (default, Mar  5 2020, 16:54:44) \n",
      "[Clang 9.0.1 ]\n"
     ]
    }
   ],
   "source": [
    "import pandas as pd\n",
    "from scipy import stats\n",
    "import numpy as np\n",
    "import mne\n",
    "import mne_bids\n",
    "from pathlib import Path\n",
    "from mne_bids import make_bids_basename\n",
    "\n",
    "from natsort import natsorted\n",
    "from pprint import pprint\n",
    "    \n",
    "# plotting\n",
    "import matplotlib\n",
    "import matplotlib.pyplot as plt\n",
    "from matplotlib.colors import ListedColormap\n",
    "%matplotlib inline\n",
    "import seaborn as sns\n",
    "\n",
    "import pickle\n",
    "import time\n",
    "from tqdm import tqdm\n",
    "\n",
    "from sklearn.model_selection import train_test_split\n",
    "\n",
    "# classifiers\n",
    "from sklearn.linear_model import LogisticRegression\n",
    "from sklearn.svm import LinearSVC\n",
    "from sklearn.svm import SVC\n",
    "from sklearn.ensemble import RandomForestClassifier\n",
    "from sklearn.neural_network import MLPClassifier\n",
    "from sklearn.neighbors import KNeighborsClassifier\n",
    "from statsmodels.tsa.vector_ar.var_model import VARProcess\n",
    "# from rerf.rerfClassifier import rerfClassifier\n",
    "\n",
    "import sys\n",
    "print(sys.version)\n",
    "\n",
    "from mtsmorf.io.read import get_trial_info, \\\n",
    "    read_dataset, read_label, read_raw_bids\n",
    "\n",
    "import warnings\n",
    "warnings.simplefilter('ignore')"
   ]
  },
  {
   "cell_type": "markdown",
   "metadata": {},
   "source": [
    "# Load in the Data"
   ]
  },
  {
   "cell_type": "code",
   "execution_count": 19,
   "metadata": {},
   "outputs": [
    {
     "name": "stdout",
     "output_type": "stream",
     "text": [
      "[]\n",
      "[]\n",
      "['sub-efri18_ses-efri_task-war_acq-seeg_run-01_ieeg.vhdr']\n",
      "[]\n",
      "['sub-efri16_ses-efri_task-war_acq-seeg_run-01_ieeg.vhdr']\n",
      "['sub-efri17_ses-efri_task-war_acq-seeg_run-01_ieeg.vhdr']\n",
      "['sub-efri10_ses-efri_task-war_acq-seeg_run-01_ieeg.vhdr']\n",
      "[]\n",
      "['sub-efri21_ses-efri_task-war_acq-seeg_run-01_ieeg.vhdr']\n",
      "['sub-efri07_ses-efri_task-war_acq-seeg_run-01_ieeg.vhdr']\n",
      "['sub-efri09_ses-efri_task-war_acq-seeg_run-01_ieeg.vhdr']\n",
      "['sub-efri06_ses-efri_task-war_acq-seeg_run-01_ieeg.vhdr']\n",
      "['sub-efri15_ses-efri_task-war_acq-seeg_run-01_ieeg.vhdr']\n",
      "['sub-efri12_ses-efri_task-war_acq-seeg_run-01_ieeg.vhdr']\n",
      "['sub-efri13_ses-efri_task-war_acq-seeg_run-01_ieeg.vhdr']\n",
      "['sub-efri14_ses-efri_task-war_acq-seeg_run-01_ieeg.vhdr']\n",
      "[]\n"
     ]
    }
   ],
   "source": [
    "def load_war_data(bids_root):\n",
    "    subjects = [x.name for x in Path(bids_root).glob(\"*\") if x.is_dir()]\n",
    "    session = \"efri\"\n",
    "    task = \"war\"\n",
    "    acquisition = \"seeg\"\n",
    "    kind = \"ieeg\"\n",
    "\n",
    "    for subject in subjects:\n",
    "        # get subject directory\n",
    "        subj_dir = Path(Path(bids_root) / subject)\n",
    "        bids_fnames = natsorted(\n",
    "                [fpath.name for fpath in subj_dir.rglob(f\"*_{kind}.vhdr\") \n",
    "                 if all(x in fpath.name for x in [session, task, acquisition, kind])]\n",
    "            )\n",
    "        \n",
    "        print(bids_fnames)\n",
    "        \n",
    "        # for each file\n",
    "        for bids_fname in bids_fnames:\n",
    "            pass\n",
    "        \n",
    "load_war_data(bids_root)"
   ]
  },
  {
   "cell_type": "code",
   "execution_count": 9,
   "metadata": {},
   "outputs": [
    {
     "name": "stdout",
     "output_type": "stream",
     "text": [
      "'Bids root is: /Users/adam2392/Dropbox/efri/'\n",
      "('Session experimental filename: '\n",
      " 'sub-efri06_ses-efri_task-war_acq-seeg_run-01_ieeg.vhdr')\n"
     ]
    }
   ],
   "source": [
    "bids_root = \"/Users/adam2392/Dropbox/efri/\"\n",
    "\n",
    "# subject identifiers\n",
    "subject = \"efri06\"\n",
    "session = \"efri\"\n",
    "task = \"war\"\n",
    "acquisition = \"seeg\"\n",
    "run = \"01\"\n",
    "\n",
    "kind = \"ieeg\"\n",
    "\n",
    "# if we want to look at a specific id\n",
    "trial_id = 2\n",
    "\n",
    "# bids filename\n",
    "bids_fname = make_bids_basename(\n",
    "    subject=subject,\n",
    "    session=session,\n",
    "    task=task,\n",
    "    acquisition=acquisition,\n",
    "    run=run,\n",
    "    suffix=f\"{kind}.vhdr\",\n",
    ")\n",
    "\n",
    "pprint(f\"Bids root is: {bids_root}\")\n",
    "pprint(f\"Session experimental filename: {bids_fname}\")"
   ]
  },
  {
   "cell_type": "code",
   "execution_count": null,
   "metadata": {},
   "outputs": [],
   "source": [
    "# read a specific trial\n",
    "rawdata, times, events_tsv = read_trial(bids_fname, bids_root, trial_id)\n",
    "\n",
    "# get the label of this trial\n",
    "y, trial_ids = read_label(\n",
    "    bids_fname, bids_root, trial_id=None, label_keyword=\"bet_amount\"\n",
    ")\n",
    "unsuccessful_trial_inds = np.where(np.isnan(y))[\n",
    "    0\n",
    "]  # get unsuccessful trials based on keyword label\n",
    "\n",
    "# read dataset as an epoch\n",
    "epochs = read_dataset(bids_fname, bids_root)\n",
    "epochs = epochs.drop(unsuccessful_trial_inds)\n",
    "epochs.load_data()\n",
    "epochs_data = epochs.get_data()\n",
    "\n",
    "print(\"Selected events in events.tsv: \", epochs.selection)\n",
    "print(\"Number of epochs: \", len(epochs))\n",
    "print(\"Data shape: \", epochs_data.shape)\n",
    "\n",
    "print(len(y))\n",
    "print(\"Unique labels (e.g. bet amounts): \", np.unique(y))\n",
    "\n",
    "print(\"Specific trial: \", rawdata.shape)\n",
    "print(\"Events data structure for specific trial: \", events_tsv)\n",
    "print(bids_fname)\n",
    "print(times[0:5])\n"
   ]
  }
 ],
 "metadata": {
  "kernelspec": {
   "display_name": "rf",
   "language": "python",
   "name": "rf"
  },
  "language_info": {
   "codemirror_mode": {
    "name": "ipython",
    "version": 3
   },
   "file_extension": ".py",
   "mimetype": "text/x-python",
   "name": "python",
   "nbconvert_exporter": "python",
   "pygments_lexer": "ipython3",
   "version": "3.8.2"
  }
 },
 "nbformat": 4,
 "nbformat_minor": 2
}
